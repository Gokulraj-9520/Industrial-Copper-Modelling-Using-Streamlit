{
 "cells": [
  {
   "cell_type": "code",
   "execution_count": 1,
   "id": "b7023b29",
   "metadata": {},
   "outputs": [],
   "source": [
    "import pandas as pd\n",
    "import numpy as np\n",
    "from matplotlib import pyplot as plt\n",
    "import warnings\n",
    "warnings.filterwarnings(\"ignore\")"
   ]
  },
  {
   "cell_type": "code",
   "execution_count": 2,
   "id": "cbcad34a",
   "metadata": {},
   "outputs": [
    {
     "data": {
      "text/html": [
       "<div>\n",
       "<style scoped>\n",
       "    .dataframe tbody tr th:only-of-type {\n",
       "        vertical-align: middle;\n",
       "    }\n",
       "\n",
       "    .dataframe tbody tr th {\n",
       "        vertical-align: top;\n",
       "    }\n",
       "\n",
       "    .dataframe thead th {\n",
       "        text-align: right;\n",
       "    }\n",
       "</style>\n",
       "<table border=\"1\" class=\"dataframe\">\n",
       "  <thead>\n",
       "    <tr style=\"text-align: right;\">\n",
       "      <th></th>\n",
       "      <th>id</th>\n",
       "      <th>item_date</th>\n",
       "      <th>quantity tons</th>\n",
       "      <th>customer</th>\n",
       "      <th>country</th>\n",
       "      <th>status</th>\n",
       "      <th>item type</th>\n",
       "      <th>application</th>\n",
       "      <th>thickness</th>\n",
       "      <th>width</th>\n",
       "      <th>material_ref</th>\n",
       "      <th>product_ref</th>\n",
       "      <th>delivery date</th>\n",
       "      <th>selling_price</th>\n",
       "    </tr>\n",
       "  </thead>\n",
       "  <tbody>\n",
       "    <tr>\n",
       "      <th>0</th>\n",
       "      <td>EC06F063-9DF0-440C-8764-0B0C05A4F6AE</td>\n",
       "      <td>20210401.0</td>\n",
       "      <td>54.151139</td>\n",
       "      <td>30156308.0</td>\n",
       "      <td>28.0</td>\n",
       "      <td>Won</td>\n",
       "      <td>W</td>\n",
       "      <td>10.0</td>\n",
       "      <td>2.00</td>\n",
       "      <td>1500.0</td>\n",
       "      <td>DEQ1 S460MC</td>\n",
       "      <td>1670798778</td>\n",
       "      <td>20210701.0</td>\n",
       "      <td>854.00</td>\n",
       "    </tr>\n",
       "    <tr>\n",
       "      <th>1</th>\n",
       "      <td>4E5F4B3D-DDDF-499D-AFDE-A3227EC49425</td>\n",
       "      <td>20210401.0</td>\n",
       "      <td>768.024839</td>\n",
       "      <td>30202938.0</td>\n",
       "      <td>25.0</td>\n",
       "      <td>Won</td>\n",
       "      <td>W</td>\n",
       "      <td>41.0</td>\n",
       "      <td>0.80</td>\n",
       "      <td>1210.0</td>\n",
       "      <td>0000000000000000000000000000000000104991</td>\n",
       "      <td>1668701718</td>\n",
       "      <td>20210401.0</td>\n",
       "      <td>1047.00</td>\n",
       "    </tr>\n",
       "    <tr>\n",
       "      <th>2</th>\n",
       "      <td>E140FF1B-2407-4C02-A0DD-780A093B1158</td>\n",
       "      <td>20210401.0</td>\n",
       "      <td>386.127949</td>\n",
       "      <td>30153963.0</td>\n",
       "      <td>30.0</td>\n",
       "      <td>Won</td>\n",
       "      <td>WI</td>\n",
       "      <td>28.0</td>\n",
       "      <td>0.38</td>\n",
       "      <td>952.0</td>\n",
       "      <td>S0380700</td>\n",
       "      <td>628377</td>\n",
       "      <td>20210101.0</td>\n",
       "      <td>644.33</td>\n",
       "    </tr>\n",
       "    <tr>\n",
       "      <th>3</th>\n",
       "      <td>F8D507A0-9C62-4EFE-831E-33E1DA53BB50</td>\n",
       "      <td>20210401.0</td>\n",
       "      <td>202.411065</td>\n",
       "      <td>30349574.0</td>\n",
       "      <td>32.0</td>\n",
       "      <td>Won</td>\n",
       "      <td>S</td>\n",
       "      <td>59.0</td>\n",
       "      <td>2.30</td>\n",
       "      <td>1317.0</td>\n",
       "      <td>DX51D+ZM310MAO 2.3X1317</td>\n",
       "      <td>1668701718</td>\n",
       "      <td>20210101.0</td>\n",
       "      <td>768.00</td>\n",
       "    </tr>\n",
       "    <tr>\n",
       "      <th>4</th>\n",
       "      <td>4E1C4E78-152B-430A-8094-ADD889C9D0AD</td>\n",
       "      <td>20210401.0</td>\n",
       "      <td>785.526262</td>\n",
       "      <td>30211560.0</td>\n",
       "      <td>28.0</td>\n",
       "      <td>Won</td>\n",
       "      <td>W</td>\n",
       "      <td>10.0</td>\n",
       "      <td>4.00</td>\n",
       "      <td>2000.0</td>\n",
       "      <td>2_S275JR+AR-CL1</td>\n",
       "      <td>640665</td>\n",
       "      <td>20210301.0</td>\n",
       "      <td>577.00</td>\n",
       "    </tr>\n",
       "  </tbody>\n",
       "</table>\n",
       "</div>"
      ],
      "text/plain": [
       "                                     id   item_date quantity tons    customer  \\\n",
       "0  EC06F063-9DF0-440C-8764-0B0C05A4F6AE  20210401.0     54.151139  30156308.0   \n",
       "1  4E5F4B3D-DDDF-499D-AFDE-A3227EC49425  20210401.0    768.024839  30202938.0   \n",
       "2  E140FF1B-2407-4C02-A0DD-780A093B1158  20210401.0    386.127949  30153963.0   \n",
       "3  F8D507A0-9C62-4EFE-831E-33E1DA53BB50  20210401.0    202.411065  30349574.0   \n",
       "4  4E1C4E78-152B-430A-8094-ADD889C9D0AD  20210401.0    785.526262  30211560.0   \n",
       "\n",
       "   country status item type  application  thickness   width  \\\n",
       "0     28.0    Won         W         10.0       2.00  1500.0   \n",
       "1     25.0    Won         W         41.0       0.80  1210.0   \n",
       "2     30.0    Won        WI         28.0       0.38   952.0   \n",
       "3     32.0    Won         S         59.0       2.30  1317.0   \n",
       "4     28.0    Won         W         10.0       4.00  2000.0   \n",
       "\n",
       "                               material_ref  product_ref  delivery date  \\\n",
       "0                               DEQ1 S460MC   1670798778     20210701.0   \n",
       "1  0000000000000000000000000000000000104991   1668701718     20210401.0   \n",
       "2                                  S0380700       628377     20210101.0   \n",
       "3                   DX51D+ZM310MAO 2.3X1317   1668701718     20210101.0   \n",
       "4                           2_S275JR+AR-CL1       640665     20210301.0   \n",
       "\n",
       "   selling_price  \n",
       "0         854.00  \n",
       "1        1047.00  \n",
       "2         644.33  \n",
       "3         768.00  \n",
       "4         577.00  "
      ]
     },
     "execution_count": 2,
     "metadata": {},
     "output_type": "execute_result"
    }
   ],
   "source": [
    "df=pd.read_excel(\"./Copper_Set.xlsx\")\n",
    "df.head()"
   ]
  },
  {
   "cell_type": "code",
   "execution_count": 3,
   "id": "6888a38e",
   "metadata": {},
   "outputs": [
    {
     "data": {
      "text/plain": [
       "Index(['id', 'item_date', 'quantity tons', 'customer', 'country', 'status',\n",
       "       'item type', 'application', 'thickness', 'width', 'material_ref',\n",
       "       'product_ref', 'delivery date', 'selling_price'],\n",
       "      dtype='object')"
      ]
     },
     "execution_count": 3,
     "metadata": {},
     "output_type": "execute_result"
    }
   ],
   "source": [
    "df.columns"
   ]
  },
  {
   "cell_type": "code",
   "execution_count": 4,
   "id": "00bbdb61",
   "metadata": {},
   "outputs": [],
   "source": [
    "df['item_date']=pd.to_datetime(df['item_date'],format='%Y%m%d',errors='coerce').dt.date\n",
    "df['quantity tons']=pd.to_numeric(df['quantity tons'], errors='coerce')\n",
    "df['customer']=pd.to_numeric(df['customer'], errors='coerce')\n",
    "df['country']=pd.to_numeric(df['country'], errors='coerce')\n",
    "df['application']=pd.to_numeric(df['application'], errors='coerce')\n",
    "df['thichness']=pd.to_numeric(df['thickness'], errors='coerce')\n",
    "df['width']=pd.to_numeric(df['width'], errors='coerce')\n",
    "df['material_ref']=df['material_ref'].str.lstrip('0')\n",
    "df['product_ref']=pd.to_numeric(df['product_ref'], errors='coerce')\n",
    "df['delivery date']=pd.to_datetime(df['delivery date'], format='%Y%m%d', errors='coerce').dt.date\n",
    "df['selling_price']=pd.to_numeric(df['selling_price'], errors='coerce')"
   ]
  },
  {
   "cell_type": "code",
   "execution_count": 5,
   "id": "77c13d2d",
   "metadata": {},
   "outputs": [
    {
     "data": {
      "text/html": [
       "<div>\n",
       "<style scoped>\n",
       "    .dataframe tbody tr th:only-of-type {\n",
       "        vertical-align: middle;\n",
       "    }\n",
       "\n",
       "    .dataframe tbody tr th {\n",
       "        vertical-align: top;\n",
       "    }\n",
       "\n",
       "    .dataframe thead th {\n",
       "        text-align: right;\n",
       "    }\n",
       "</style>\n",
       "<table border=\"1\" class=\"dataframe\">\n",
       "  <thead>\n",
       "    <tr style=\"text-align: right;\">\n",
       "      <th></th>\n",
       "      <th>id</th>\n",
       "      <th>item_date</th>\n",
       "      <th>quantity tons</th>\n",
       "      <th>customer</th>\n",
       "      <th>country</th>\n",
       "      <th>status</th>\n",
       "      <th>item type</th>\n",
       "      <th>application</th>\n",
       "      <th>thickness</th>\n",
       "      <th>width</th>\n",
       "      <th>material_ref</th>\n",
       "      <th>product_ref</th>\n",
       "      <th>delivery date</th>\n",
       "      <th>selling_price</th>\n",
       "      <th>thichness</th>\n",
       "    </tr>\n",
       "  </thead>\n",
       "  <tbody>\n",
       "    <tr>\n",
       "      <th>0</th>\n",
       "      <td>EC06F063-9DF0-440C-8764-0B0C05A4F6AE</td>\n",
       "      <td>2021-04-01</td>\n",
       "      <td>54.151139</td>\n",
       "      <td>30156308.0</td>\n",
       "      <td>28.0</td>\n",
       "      <td>Won</td>\n",
       "      <td>W</td>\n",
       "      <td>10.0</td>\n",
       "      <td>2.00</td>\n",
       "      <td>1500.0</td>\n",
       "      <td>DEQ1 S460MC</td>\n",
       "      <td>1670798778</td>\n",
       "      <td>2021-07-01</td>\n",
       "      <td>854.00</td>\n",
       "      <td>2.00</td>\n",
       "    </tr>\n",
       "    <tr>\n",
       "      <th>1</th>\n",
       "      <td>4E5F4B3D-DDDF-499D-AFDE-A3227EC49425</td>\n",
       "      <td>2021-04-01</td>\n",
       "      <td>768.024839</td>\n",
       "      <td>30202938.0</td>\n",
       "      <td>25.0</td>\n",
       "      <td>Won</td>\n",
       "      <td>W</td>\n",
       "      <td>41.0</td>\n",
       "      <td>0.80</td>\n",
       "      <td>1210.0</td>\n",
       "      <td>104991</td>\n",
       "      <td>1668701718</td>\n",
       "      <td>2021-04-01</td>\n",
       "      <td>1047.00</td>\n",
       "      <td>0.80</td>\n",
       "    </tr>\n",
       "    <tr>\n",
       "      <th>2</th>\n",
       "      <td>E140FF1B-2407-4C02-A0DD-780A093B1158</td>\n",
       "      <td>2021-04-01</td>\n",
       "      <td>386.127949</td>\n",
       "      <td>30153963.0</td>\n",
       "      <td>30.0</td>\n",
       "      <td>Won</td>\n",
       "      <td>WI</td>\n",
       "      <td>28.0</td>\n",
       "      <td>0.38</td>\n",
       "      <td>952.0</td>\n",
       "      <td>S0380700</td>\n",
       "      <td>628377</td>\n",
       "      <td>2021-01-01</td>\n",
       "      <td>644.33</td>\n",
       "      <td>0.38</td>\n",
       "    </tr>\n",
       "    <tr>\n",
       "      <th>3</th>\n",
       "      <td>F8D507A0-9C62-4EFE-831E-33E1DA53BB50</td>\n",
       "      <td>2021-04-01</td>\n",
       "      <td>202.411065</td>\n",
       "      <td>30349574.0</td>\n",
       "      <td>32.0</td>\n",
       "      <td>Won</td>\n",
       "      <td>S</td>\n",
       "      <td>59.0</td>\n",
       "      <td>2.30</td>\n",
       "      <td>1317.0</td>\n",
       "      <td>DX51D+ZM310MAO 2.3X1317</td>\n",
       "      <td>1668701718</td>\n",
       "      <td>2021-01-01</td>\n",
       "      <td>768.00</td>\n",
       "      <td>2.30</td>\n",
       "    </tr>\n",
       "    <tr>\n",
       "      <th>4</th>\n",
       "      <td>4E1C4E78-152B-430A-8094-ADD889C9D0AD</td>\n",
       "      <td>2021-04-01</td>\n",
       "      <td>785.526262</td>\n",
       "      <td>30211560.0</td>\n",
       "      <td>28.0</td>\n",
       "      <td>Won</td>\n",
       "      <td>W</td>\n",
       "      <td>10.0</td>\n",
       "      <td>4.00</td>\n",
       "      <td>2000.0</td>\n",
       "      <td>2_S275JR+AR-CL1</td>\n",
       "      <td>640665</td>\n",
       "      <td>2021-03-01</td>\n",
       "      <td>577.00</td>\n",
       "      <td>4.00</td>\n",
       "    </tr>\n",
       "  </tbody>\n",
       "</table>\n",
       "</div>"
      ],
      "text/plain": [
       "                                     id   item_date  quantity tons  \\\n",
       "0  EC06F063-9DF0-440C-8764-0B0C05A4F6AE  2021-04-01      54.151139   \n",
       "1  4E5F4B3D-DDDF-499D-AFDE-A3227EC49425  2021-04-01     768.024839   \n",
       "2  E140FF1B-2407-4C02-A0DD-780A093B1158  2021-04-01     386.127949   \n",
       "3  F8D507A0-9C62-4EFE-831E-33E1DA53BB50  2021-04-01     202.411065   \n",
       "4  4E1C4E78-152B-430A-8094-ADD889C9D0AD  2021-04-01     785.526262   \n",
       "\n",
       "     customer  country status item type  application  thickness   width  \\\n",
       "0  30156308.0     28.0    Won         W         10.0       2.00  1500.0   \n",
       "1  30202938.0     25.0    Won         W         41.0       0.80  1210.0   \n",
       "2  30153963.0     30.0    Won        WI         28.0       0.38   952.0   \n",
       "3  30349574.0     32.0    Won         S         59.0       2.30  1317.0   \n",
       "4  30211560.0     28.0    Won         W         10.0       4.00  2000.0   \n",
       "\n",
       "              material_ref  product_ref delivery date  selling_price  \\\n",
       "0              DEQ1 S460MC   1670798778    2021-07-01         854.00   \n",
       "1                   104991   1668701718    2021-04-01        1047.00   \n",
       "2                 S0380700       628377    2021-01-01         644.33   \n",
       "3  DX51D+ZM310MAO 2.3X1317   1668701718    2021-01-01         768.00   \n",
       "4          2_S275JR+AR-CL1       640665    2021-03-01         577.00   \n",
       "\n",
       "   thichness  \n",
       "0       2.00  \n",
       "1       0.80  \n",
       "2       0.38  \n",
       "3       2.30  \n",
       "4       4.00  "
      ]
     },
     "execution_count": 5,
     "metadata": {},
     "output_type": "execute_result"
    }
   ],
   "source": [
    "df.head()\n"
   ]
  },
  {
   "cell_type": "code",
   "execution_count": 6,
   "id": "d02270cc",
   "metadata": {},
   "outputs": [
    {
     "name": "stdout",
     "output_type": "stream",
     "text": [
      "<class 'pandas.core.frame.DataFrame'>\n",
      "RangeIndex: 181673 entries, 0 to 181672\n",
      "Data columns (total 15 columns):\n",
      " #   Column         Non-Null Count   Dtype  \n",
      "---  ------         --------------   -----  \n",
      " 0   id             181671 non-null  object \n",
      " 1   item_date      181670 non-null  object \n",
      " 2   quantity tons  181672 non-null  float64\n",
      " 3   customer       181672 non-null  float64\n",
      " 4   country        181645 non-null  float64\n",
      " 5   status         181671 non-null  object \n",
      " 6   item type      181673 non-null  object \n",
      " 7   application    181649 non-null  float64\n",
      " 8   thickness      181672 non-null  float64\n",
      " 9   width          181673 non-null  float64\n",
      " 10  material_ref   103754 non-null  object \n",
      " 11  product_ref    181673 non-null  int64  \n",
      " 12  delivery date  181670 non-null  object \n",
      " 13  selling_price  181672 non-null  float64\n",
      " 14  thichness      181672 non-null  float64\n",
      "dtypes: float64(8), int64(1), object(6)\n",
      "memory usage: 20.8+ MB\n"
     ]
    }
   ],
   "source": [
    "df.info()"
   ]
  },
  {
   "cell_type": "code",
   "execution_count": 7,
   "id": "796738d4",
   "metadata": {},
   "outputs": [
    {
     "data": {
      "text/html": [
       "<div>\n",
       "<style scoped>\n",
       "    .dataframe tbody tr th:only-of-type {\n",
       "        vertical-align: middle;\n",
       "    }\n",
       "\n",
       "    .dataframe tbody tr th {\n",
       "        vertical-align: top;\n",
       "    }\n",
       "\n",
       "    .dataframe thead th {\n",
       "        text-align: right;\n",
       "    }\n",
       "</style>\n",
       "<table border=\"1\" class=\"dataframe\">\n",
       "  <thead>\n",
       "    <tr style=\"text-align: right;\">\n",
       "      <th></th>\n",
       "      <th>quantity tons</th>\n",
       "      <th>customer</th>\n",
       "      <th>country</th>\n",
       "      <th>application</th>\n",
       "      <th>thickness</th>\n",
       "      <th>width</th>\n",
       "      <th>product_ref</th>\n",
       "      <th>selling_price</th>\n",
       "      <th>thichness</th>\n",
       "    </tr>\n",
       "  </thead>\n",
       "  <tbody>\n",
       "    <tr>\n",
       "      <th>count</th>\n",
       "      <td>1.816720e+05</td>\n",
       "      <td>1.816720e+05</td>\n",
       "      <td>181645.000000</td>\n",
       "      <td>181649.000000</td>\n",
       "      <td>181672.000000</td>\n",
       "      <td>181673.000000</td>\n",
       "      <td>1.816730e+05</td>\n",
       "      <td>1.816720e+05</td>\n",
       "      <td>181672.000000</td>\n",
       "    </tr>\n",
       "    <tr>\n",
       "      <th>mean</th>\n",
       "      <td>5.874926e+03</td>\n",
       "      <td>3.051221e+07</td>\n",
       "      <td>44.893022</td>\n",
       "      <td>25.615809</td>\n",
       "      <td>2.564827</td>\n",
       "      <td>1295.286724</td>\n",
       "      <td>4.739679e+08</td>\n",
       "      <td>1.918036e+03</td>\n",
       "      <td>2.564827</td>\n",
       "    </tr>\n",
       "    <tr>\n",
       "      <th>std</th>\n",
       "      <td>2.349081e+06</td>\n",
       "      <td>2.433382e+07</td>\n",
       "      <td>24.404214</td>\n",
       "      <td>17.754175</td>\n",
       "      <td>6.572321</td>\n",
       "      <td>261.631754</td>\n",
       "      <td>7.175101e+08</td>\n",
       "      <td>3.317956e+05</td>\n",
       "      <td>6.572321</td>\n",
       "    </tr>\n",
       "    <tr>\n",
       "      <th>min</th>\n",
       "      <td>-2.000000e+03</td>\n",
       "      <td>1.245800e+04</td>\n",
       "      <td>25.000000</td>\n",
       "      <td>2.000000</td>\n",
       "      <td>0.180000</td>\n",
       "      <td>1.000000</td>\n",
       "      <td>6.117280e+05</td>\n",
       "      <td>-1.160000e+03</td>\n",
       "      <td>0.180000</td>\n",
       "    </tr>\n",
       "    <tr>\n",
       "      <th>25%</th>\n",
       "      <td>1.097030e+01</td>\n",
       "      <td>3.019688e+07</td>\n",
       "      <td>26.000000</td>\n",
       "      <td>10.000000</td>\n",
       "      <td>0.700000</td>\n",
       "      <td>1180.000000</td>\n",
       "      <td>6.119930e+05</td>\n",
       "      <td>6.690000e+02</td>\n",
       "      <td>0.700000</td>\n",
       "    </tr>\n",
       "    <tr>\n",
       "      <th>50%</th>\n",
       "      <td>3.036464e+01</td>\n",
       "      <td>3.020524e+07</td>\n",
       "      <td>30.000000</td>\n",
       "      <td>15.000000</td>\n",
       "      <td>1.500000</td>\n",
       "      <td>1250.000000</td>\n",
       "      <td>6.406650e+05</td>\n",
       "      <td>8.120000e+02</td>\n",
       "      <td>1.500000</td>\n",
       "    </tr>\n",
       "    <tr>\n",
       "      <th>75%</th>\n",
       "      <td>6.716061e+01</td>\n",
       "      <td>3.028042e+07</td>\n",
       "      <td>78.000000</td>\n",
       "      <td>41.000000</td>\n",
       "      <td>3.000000</td>\n",
       "      <td>1500.000000</td>\n",
       "      <td>1.332077e+09</td>\n",
       "      <td>9.530000e+02</td>\n",
       "      <td>3.000000</td>\n",
       "    </tr>\n",
       "    <tr>\n",
       "      <th>max</th>\n",
       "      <td>1.000000e+09</td>\n",
       "      <td>2.147484e+09</td>\n",
       "      <td>113.000000</td>\n",
       "      <td>99.000000</td>\n",
       "      <td>2500.000000</td>\n",
       "      <td>2990.000000</td>\n",
       "      <td>1.722208e+09</td>\n",
       "      <td>1.000010e+08</td>\n",
       "      <td>2500.000000</td>\n",
       "    </tr>\n",
       "  </tbody>\n",
       "</table>\n",
       "</div>"
      ],
      "text/plain": [
       "       quantity tons      customer        country    application  \\\n",
       "count   1.816720e+05  1.816720e+05  181645.000000  181649.000000   \n",
       "mean    5.874926e+03  3.051221e+07      44.893022      25.615809   \n",
       "std     2.349081e+06  2.433382e+07      24.404214      17.754175   \n",
       "min    -2.000000e+03  1.245800e+04      25.000000       2.000000   \n",
       "25%     1.097030e+01  3.019688e+07      26.000000      10.000000   \n",
       "50%     3.036464e+01  3.020524e+07      30.000000      15.000000   \n",
       "75%     6.716061e+01  3.028042e+07      78.000000      41.000000   \n",
       "max     1.000000e+09  2.147484e+09     113.000000      99.000000   \n",
       "\n",
       "           thickness          width   product_ref  selling_price  \\\n",
       "count  181672.000000  181673.000000  1.816730e+05   1.816720e+05   \n",
       "mean        2.564827    1295.286724  4.739679e+08   1.918036e+03   \n",
       "std         6.572321     261.631754  7.175101e+08   3.317956e+05   \n",
       "min         0.180000       1.000000  6.117280e+05  -1.160000e+03   \n",
       "25%         0.700000    1180.000000  6.119930e+05   6.690000e+02   \n",
       "50%         1.500000    1250.000000  6.406650e+05   8.120000e+02   \n",
       "75%         3.000000    1500.000000  1.332077e+09   9.530000e+02   \n",
       "max      2500.000000    2990.000000  1.722208e+09   1.000010e+08   \n",
       "\n",
       "           thichness  \n",
       "count  181672.000000  \n",
       "mean        2.564827  \n",
       "std         6.572321  \n",
       "min         0.180000  \n",
       "25%         0.700000  \n",
       "50%         1.500000  \n",
       "75%         3.000000  \n",
       "max      2500.000000  "
      ]
     },
     "execution_count": 7,
     "metadata": {},
     "output_type": "execute_result"
    }
   ],
   "source": [
    "df.describe()"
   ]
  },
  {
   "cell_type": "code",
   "execution_count": 80,
   "id": "83f62d7c",
   "metadata": {},
   "outputs": [
    {
     "data": {
      "text/plain": [
       "611728"
      ]
     },
     "execution_count": 80,
     "metadata": {},
     "output_type": "execute_result"
    }
   ],
   "source": [
    "df['product_ref'].min()"
   ]
  },
  {
   "cell_type": "code",
   "execution_count": 81,
   "id": "e25bf862",
   "metadata": {},
   "outputs": [
    {
     "data": {
      "text/plain": [
       "1722207579"
      ]
     },
     "execution_count": 81,
     "metadata": {},
     "output_type": "execute_result"
    }
   ],
   "source": [
    "df['product_ref'].max()"
   ]
  },
  {
   "cell_type": "code",
   "execution_count": 10,
   "id": "9f5dcbba",
   "metadata": {},
   "outputs": [
    {
     "data": {
      "text/plain": [
       "(181673, 15)"
      ]
     },
     "execution_count": 10,
     "metadata": {},
     "output_type": "execute_result"
    }
   ],
   "source": [
    "df.shape"
   ]
  },
  {
   "cell_type": "code",
   "execution_count": 11,
   "id": "116ab1e1",
   "metadata": {},
   "outputs": [
    {
     "name": "stdout",
     "output_type": "stream",
     "text": [
      "<class 'pandas.core.frame.DataFrame'>\n",
      "RangeIndex: 181673 entries, 0 to 181672\n",
      "Data columns (total 15 columns):\n",
      " #   Column         Non-Null Count   Dtype  \n",
      "---  ------         --------------   -----  \n",
      " 0   id             181671 non-null  object \n",
      " 1   item_date      181670 non-null  object \n",
      " 2   quantity tons  181672 non-null  float64\n",
      " 3   customer       181672 non-null  float64\n",
      " 4   country        181645 non-null  float64\n",
      " 5   status         181671 non-null  object \n",
      " 6   item type      181673 non-null  object \n",
      " 7   application    181649 non-null  float64\n",
      " 8   thickness      181672 non-null  float64\n",
      " 9   width          181673 non-null  float64\n",
      " 10  material_ref   103754 non-null  object \n",
      " 11  product_ref    181673 non-null  int64  \n",
      " 12  delivery date  181670 non-null  object \n",
      " 13  selling_price  181672 non-null  float64\n",
      " 14  thichness      181672 non-null  float64\n",
      "dtypes: float64(8), int64(1), object(6)\n",
      "memory usage: 20.8+ MB\n"
     ]
    }
   ],
   "source": [
    "df.info()"
   ]
  },
  {
   "cell_type": "code",
   "execution_count": 12,
   "id": "7b81a086",
   "metadata": {},
   "outputs": [
    {
     "data": {
      "text/plain": [
       "id                   2\n",
       "item_date            3\n",
       "quantity tons        1\n",
       "customer             1\n",
       "country             28\n",
       "status               2\n",
       "item type            0\n",
       "application         24\n",
       "thickness            1\n",
       "width                0\n",
       "material_ref     77919\n",
       "product_ref          0\n",
       "delivery date        3\n",
       "selling_price        1\n",
       "thichness            1\n",
       "dtype: int64"
      ]
     },
     "execution_count": 12,
     "metadata": {},
     "output_type": "execute_result"
    }
   ],
   "source": [
    "df.isnull().sum()"
   ]
  },
  {
   "cell_type": "code",
   "execution_count": 13,
   "id": "1e87c35a",
   "metadata": {},
   "outputs": [],
   "source": [
    "df['material_ref']=df['material_ref'].fillna('Null')"
   ]
  },
  {
   "cell_type": "code",
   "execution_count": 14,
   "id": "c8180c92",
   "metadata": {},
   "outputs": [
    {
     "data": {
      "text/plain": [
       "id                2\n",
       "item_date         3\n",
       "quantity tons     1\n",
       "customer          1\n",
       "country          28\n",
       "status            2\n",
       "item type         0\n",
       "application      24\n",
       "thickness         1\n",
       "width             0\n",
       "material_ref      0\n",
       "product_ref       0\n",
       "delivery date     3\n",
       "selling_price     1\n",
       "thichness         1\n",
       "dtype: int64"
      ]
     },
     "execution_count": 14,
     "metadata": {},
     "output_type": "execute_result"
    }
   ],
   "source": [
    "df.isnull().sum()"
   ]
  },
  {
   "cell_type": "code",
   "execution_count": 15,
   "id": "744786b8",
   "metadata": {},
   "outputs": [],
   "source": [
    "df=df.dropna()"
   ]
  },
  {
   "cell_type": "code",
   "execution_count": 16,
   "id": "8f8e9a21",
   "metadata": {},
   "outputs": [
    {
     "data": {
      "text/plain": [
       "id               0\n",
       "item_date        0\n",
       "quantity tons    0\n",
       "customer         0\n",
       "country          0\n",
       "status           0\n",
       "item type        0\n",
       "application      0\n",
       "thickness        0\n",
       "width            0\n",
       "material_ref     0\n",
       "product_ref      0\n",
       "delivery date    0\n",
       "selling_price    0\n",
       "thichness        0\n",
       "dtype: int64"
      ]
     },
     "execution_count": 16,
     "metadata": {},
     "output_type": "execute_result"
    }
   ],
   "source": [
    "df.isnull().sum()"
   ]
  },
  {
   "cell_type": "code",
   "execution_count": 17,
   "id": "f198fc34",
   "metadata": {},
   "outputs": [
    {
     "data": {
      "text/plain": [
       "(181631, 15)"
      ]
     },
     "execution_count": 17,
     "metadata": {},
     "output_type": "execute_result"
    }
   ],
   "source": [
    "df.shape"
   ]
  },
  {
   "cell_type": "code",
   "execution_count": 18,
   "id": "5aadd372",
   "metadata": {},
   "outputs": [
    {
     "data": {
      "text/plain": [
       "<Axes: >"
      ]
     },
     "execution_count": 18,
     "metadata": {},
     "output_type": "execute_result"
    },
    {
     "data": {
      "image/png": "[encoded data removed]",
      "text/plain": [
       "<Figure size 640x480 with 1 Axes>"
      ]
     },
     "metadata": {},
     "output_type": "display_data"
    }
   ],
   "source": [
    "import seaborn as sns\n",
    "sns.boxplot(data=df)"
   ]
  },
  {
   "cell_type": "code",
   "execution_count": 19,
   "id": "5f4d0bc8",
   "metadata": {},
   "outputs": [
    {
     "data": {
      "text/plain": [
       "Index(['id', 'item_date', 'quantity tons', 'customer', 'country', 'status',\n",
       "       'item type', 'application', 'thickness', 'width', 'material_ref',\n",
       "       'product_ref', 'delivery date', 'selling_price', 'thichness'],\n",
       "      dtype='object')"
      ]
     },
     "execution_count": 19,
     "metadata": {},
     "output_type": "execute_result"
    }
   ],
   "source": [
    "df.columns"
   ]
  },
  {
   "cell_type": "code",
   "execution_count": 20,
   "id": "1e8377f3",
   "metadata": {},
   "outputs": [
    {
     "data": {
      "text/plain": [
       "<Axes: xlabel='quantity tons'>"
      ]
     },
     "execution_count": 20,
     "metadata": {},
     "output_type": "execute_result"
    },
    {
     "data": {
      "image/png": "[encoded data removed]",
      "text/plain": [
       "<Figure size 640x480 with 1 Axes>"
      ]
     },
     "metadata": {},
     "output_type": "display_data"
    }
   ],
   "source": [
    "sns.violinplot(x=df['quantity tons'])"
   ]
  },
  {
   "cell_type": "code",
   "execution_count": 21,
   "id": "2c42709b",
   "metadata": {},
   "outputs": [
    {
     "data": {
      "text/plain": [
       "<Axes: xlabel='customer'>"
      ]
     },
     "execution_count": 21,
     "metadata": {},
     "output_type": "execute_result"
    },
    {
     "data": {
      "image/png": "[encoded data removed]",
      "text/plain": [
       "<Figure size 640x480 with 1 Axes>"
      ]
     },
     "metadata": {},
     "output_type": "display_data"
    }
   ],
   "source": [
    "sns.violinplot(x=df['customer'])"
   ]
  },
  {
   "cell_type": "code",
   "execution_count": 22,
   "id": "e13eef06",
   "metadata": {},
   "outputs": [
    {
     "data": {
      "text/plain": [
       "<Axes: xlabel='country'>"
      ]
     },
     "execution_count": 22,
     "metadata": {},
     "output_type": "execute_result"
    },
    {
     "data": {
      "image/png": "[encoded data removed]",
      "text/plain": [
       "<Figure size 640x480 with 1 Axes>"
      ]
     },
     "metadata": {},
     "output_type": "display_data"
    }
   ],
   "source": [
    "sns.violinplot(x=df['country'])"
   ]
  },
  {
   "cell_type": "code",
   "execution_count": 23,
   "id": "e010c37e",
   "metadata": {},
   "outputs": [
    {
     "data": {
      "text/plain": [
       "<Axes: xlabel='application'>"
      ]
     },
     "execution_count": 23,
     "metadata": {},
     "output_type": "execute_result"
    },
    {
     "data": {
      "image/png": "[encoded data removed]",
      "text/plain": [
       "<Figure size 640x480 with 1 Axes>"
      ]
     },
     "metadata": {},
     "output_type": "display_data"
    }
   ],
   "source": [
    "sns.violinplot(x=df['application'])"
   ]
  },
  {
   "cell_type": "code",
   "execution_count": 24,
   "id": "ac2670f9",
   "metadata": {},
   "outputs": [
    {
     "data": {
      "text/plain": [
       "<Axes: xlabel='thickness'>"
      ]
     },
     "execution_count": 24,
     "metadata": {},
     "output_type": "execute_result"
    },
    {
     "data": {
      "image/png": "[encoded data removed]",
      "text/plain": [
       "<Figure size 640x480 with 1 Axes>"
      ]
     },
     "metadata": {},
     "output_type": "display_data"
    }
   ],
   "source": [
    "sns.violinplot(x=df['thickness'])"
   ]
  },
  {
   "cell_type": "code",
   "execution_count": 25,
   "id": "1c96e40f",
   "metadata": {},
   "outputs": [
    {
     "data": {
      "text/plain": [
       "<Axes: xlabel='width'>"
      ]
     },
     "execution_count": 25,
     "metadata": {},
     "output_type": "execute_result"
    },
    {
     "data": {
      "image/png": "[encoded data removed]",
      "text/plain": [
       "<Figure size 640x480 with 1 Axes>"
      ]
     },
     "metadata": {},
     "output_type": "display_data"
    }
   ],
   "source": [
    "sns.violinplot(x=df['width'])"
   ]
  },
  {
   "cell_type": "code",
   "execution_count": 26,
   "id": "6e46c415",
   "metadata": {},
   "outputs": [
    {
     "data": {
      "text/plain": [
       "<Axes: xlabel='product_ref'>"
      ]
     },
     "execution_count": 26,
     "metadata": {},
     "output_type": "execute_result"
    },
    {
     "data": {
      "image/png": "[encoded data removed]",
      "text/plain": [
       "<Figure size 640x480 with 1 Axes>"
      ]
     },
     "metadata": {},
     "output_type": "display_data"
    }
   ],
   "source": [
    "sns.violinplot(x=df['product_ref'])"
   ]
  },
  {
   "cell_type": "code",
   "execution_count": 27,
   "id": "c697872f",
   "metadata": {},
   "outputs": [
    {
     "data": {
      "text/plain": [
       "<Axes: xlabel='selling_price'>"
      ]
     },
     "execution_count": 27,
     "metadata": {},
     "output_type": "execute_result"
    },
    {
     "data": {
      "image/png": "[encoded data removed]",
      "text/plain": [
       "<Figure size 640x480 with 1 Axes>"
      ]
     },
     "metadata": {},
     "output_type": "display_data"
    }
   ],
   "source": [
    "sns.violinplot(x=df['selling_price'])"
   ]
  },
  {
   "cell_type": "code",
   "execution_count": 28,
   "id": "85fad383",
   "metadata": {},
   "outputs": [
    {
     "data": {
      "text/plain": [
       "<Axes: xlabel='quantity tons', ylabel='Density'>"
      ]
     },
     "execution_count": 28,
     "metadata": {},
     "output_type": "execute_result"
    },
    {
     "data": {
      "image/png": "[encoded data removed]",
      "text/plain": [
       "<Figure size 640x480 with 1 Axes>"
      ]
     },
     "metadata": {},
     "output_type": "display_data"
    }
   ],
   "source": [
    "sns.distplot(df['quantity tons'], kde=True)"
   ]
  },
  {
   "cell_type": "code",
   "execution_count": 29,
   "id": "2d4c4120",
   "metadata": {},
   "outputs": [
    {
     "data": {
      "text/plain": [
       "<Axes: xlabel='customer', ylabel='Density'>"
      ]
     },
     "execution_count": 29,
     "metadata": {},
     "output_type": "execute_result"
    },
    {
     "data": {
      "image/png": "[encoded data removed]",
      "text/plain": [
       "<Figure size 640x480 with 1 Axes>"
      ]
     },
     "metadata": {},
     "output_type": "display_data"
    }
   ],
   "source": [
    "sns.distplot(df['customer'], kde=True)"
   ]
  },
  {
   "cell_type": "code",
   "execution_count": 30,
   "id": "9e9f9a41",
   "metadata": {},
   "outputs": [
    {
     "data": {
      "text/plain": [
       "<Axes: xlabel='country', ylabel='Density'>"
      ]
     },
     "execution_count": 30,
     "metadata": {},
     "output_type": "execute_result"
    },
    {
     "data": {
      "image/png": "[encoded data removed]",
      "text/plain": [
       "<Figure size 640x480 with 1 Axes>"
      ]
     },
     "metadata": {},
     "output_type": "display_data"
    }
   ],
   "source": [
    "sns.distplot(df['country'], kde=True)"
   ]
  },
  {
   "cell_type": "code",
   "execution_count": 31,
   "id": "6c69c1cf",
   "metadata": {},
   "outputs": [
    {
     "data": {
      "text/plain": [
       "<Axes: xlabel='application', ylabel='Density'>"
      ]
     },
     "execution_count": 31,
     "metadata": {},
     "output_type": "execute_result"
    },
    {
     "data": {
      "image/png": "[encoded data removed]",
      "text/plain": [
       "<Figure size 640x480 with 1 Axes>"
      ]
     },
     "metadata": {},
     "output_type": "display_data"
    }
   ],
   "source": [
    "sns.distplot(df['application'], kde=True)"
   ]
  },
  {
   "cell_type": "code",
   "execution_count": 32,
   "id": "99ef1768",
   "metadata": {},
   "outputs": [
    {
     "data": {
      "text/plain": [
       "<Axes: xlabel='thickness', ylabel='Density'>"
      ]
     },
     "execution_count": 32,
     "metadata": {},
     "output_type": "execute_result"
    },
    {
     "data": {
      "image/png": "[encoded data removed]",
      "text/plain": [
       "<Figure size 640x480 with 1 Axes>"
      ]
     },
     "metadata": {},
     "output_type": "display_data"
    }
   ],
   "source": [
    "sns.distplot(df['thickness'], kde=True)"
   ]
  },
  {
   "cell_type": "code",
   "execution_count": 33,
   "id": "771f0de6",
   "metadata": {},
   "outputs": [
    {
     "data": {
      "text/plain": [
       "<Axes: xlabel='width', ylabel='Density'>"
      ]
     },
     "execution_count": 33,
     "metadata": {},
     "output_type": "execute_result"
    },
    {
     "data": {
      "image/png": "[encoded data removed]",
      "text/plain": [
       "<Figure size 640x480 with 1 Axes>"
      ]
     },
     "metadata": {},
     "output_type": "display_data"
    }
   ],
   "source": [
    "sns.distplot(df['width'],kde=True)"
   ]
  },
  {
   "cell_type": "code",
   "execution_count": 34,
   "id": "6cf1b691",
   "metadata": {},
   "outputs": [
    {
     "data": {
      "text/plain": [
       "<Axes: xlabel='product_ref', ylabel='Density'>"
      ]
     },
     "execution_count": 34,
     "metadata": {},
     "output_type": "execute_result"
    },
    {
     "data": {
      "image/png": "[encoded data removed]",
      "text/plain": [
       "<Figure size 640x480 with 1 Axes>"
      ]
     },
     "metadata": {},
     "output_type": "display_data"
    }
   ],
   "source": [
    "sns.distplot(df['product_ref'], kde=True)"
   ]
  },
  {
   "cell_type": "code",
   "execution_count": 35,
   "id": "5217679b",
   "metadata": {},
   "outputs": [
    {
     "data": {
      "text/plain": [
       "<Axes: xlabel='selling_price', ylabel='Density'>"
      ]
     },
     "execution_count": 35,
     "metadata": {},
     "output_type": "execute_result"
    },
    {
     "data": {
      "image/png": "[encoded data removed]",
      "text/plain": [
       "<Figure size 640x480 with 1 Axes>"
      ]
     },
     "metadata": {},
     "output_type": "display_data"
    }
   ],
   "source": [
    "sns.distplot(df['selling_price'], kde=True)"
   ]
  },
  {
   "cell_type": "markdown",
   "id": "6fcc74ca",
   "metadata": {},
   "source": [
    "# Regression and Classification Categorisation"
   ]
  },
  {
   "cell_type": "markdown",
   "id": "e9d3bdf5",
   "metadata": {},
   "source": [
    "# Regression"
   ]
  },
  {
   "cell_type": "code",
   "execution_count": 53,
   "id": "9745fe07",
   "metadata": {},
   "outputs": [],
   "source": [
    "rdf=df.copy() "
   ]
  },
  {
   "cell_type": "code",
   "execution_count": 54,
   "id": "8d10820d",
   "metadata": {},
   "outputs": [
    {
     "name": "stdout",
     "output_type": "stream",
     "text": [
      "4\n",
      "0\n",
      "7\n"
     ]
    }
   ],
   "source": [
    "a=rdf['quantity tons']<=0\n",
    "#print(a)\n",
    "print(a.sum())\n",
    "rdf.loc[a,'quantity tons']=np.nan\n",
    "\n",
    "a=rdf['thickness']<=0\n",
    "print(a.sum())\n",
    "\n",
    "a=rdf['selling_price']<=0\n",
    "print(a.sum())\n",
    "rdf.loc[a,'selling_price']=np.nan"
   ]
  },
  {
   "cell_type": "code",
   "execution_count": 55,
   "id": "696308f0",
   "metadata": {},
   "outputs": [
    {
     "data": {
      "text/plain": [
       "id               0\n",
       "item_date        0\n",
       "quantity tons    4\n",
       "customer         0\n",
       "country          0\n",
       "status           0\n",
       "item type        0\n",
       "application      0\n",
       "thickness        0\n",
       "width            0\n",
       "material_ref     0\n",
       "product_ref      0\n",
       "delivery date    0\n",
       "selling_price    7\n",
       "thichness        0\n",
       "dtype: int64"
      ]
     },
     "execution_count": 55,
     "metadata": {},
     "output_type": "execute_result"
    }
   ],
   "source": [
    "rdf.isnull().sum()"
   ]
  },
  {
   "cell_type": "code",
   "execution_count": 56,
   "id": "e9e346da",
   "metadata": {},
   "outputs": [
    {
     "data": {
      "image/png": "[encoded data removed]",
      "text/plain": [
       "<Figure size 640x480 with 1 Axes>"
      ]
     },
     "metadata": {},
     "output_type": "display_data"
    },
    {
     "data": {
      "image/png": "[encoded data removed]",
      "text/plain": [
       "<Figure size 640x480 with 1 Axes>"
      ]
     },
     "metadata": {},
     "output_type": "display_data"
    },
    {
     "data": {
      "image/png": "[encoded data removed]",
      "text/plain": [
       "<Figure size 640x480 with 1 Axes>"
      ]
     },
     "metadata": {},
     "output_type": "display_data"
    }
   ],
   "source": [
    "rdf['selling_price_log'] = np.log(rdf['selling_price'])\n",
    "sns.distplot(rdf['selling_price_log'])\n",
    "plt.show()\n",
    "\n",
    "rdf['quantity tons_log'] = np.log(rdf['quantity tons'])\n",
    "sns.distplot(rdf['quantity tons_log'])\n",
    "plt.show()\n",
    "\n",
    "rdf['thickness_log'] = np.log(rdf['thickness'])\n",
    "sns.distplot(rdf['thickness_log'])\n",
    "plt.show()"
   ]
  },
  {
   "cell_type": "markdown",
   "id": "caad472a",
   "metadata": {},
   "source": [
    "# Preprocessing"
   ]
  },
  {
   "cell_type": "code",
   "execution_count": 57,
   "id": "247b5662",
   "metadata": {},
   "outputs": [],
   "source": [
    "from sklearn.preprocessing import OrdinalEncoder\n",
    "oe=OrdinalEncoder()"
   ]
  },
  {
   "cell_type": "code",
   "execution_count": 58,
   "id": "4d218a00",
   "metadata": {},
   "outputs": [],
   "source": [
    "rc=df.copy()"
   ]
  },
  {
   "cell_type": "code",
   "execution_count": 59,
   "id": "e67ffb51",
   "metadata": {},
   "outputs": [
    {
     "data": {
      "text/plain": [
       "array(['W', 'WI', 'S', 'Others', 'PL', 'IPL', 'SLAWR'], dtype=object)"
      ]
     },
     "execution_count": 59,
     "metadata": {},
     "output_type": "execute_result"
    }
   ],
   "source": [
    "rc['item type'].unique()"
   ]
  },
  {
   "cell_type": "code",
   "execution_count": 60,
   "id": "7f4c9836",
   "metadata": {},
   "outputs": [
    {
     "data": {
      "text/plain": [
       "array(['W', 'WI', 'S', 'Others', 'PL', 'IPL', 'SLAWR'], dtype=object)"
      ]
     },
     "execution_count": 60,
     "metadata": {},
     "output_type": "execute_result"
    }
   ],
   "source": [
    "rdf['item type'].unique()"
   ]
  },
  {
   "cell_type": "code",
   "execution_count": 61,
   "id": "5359cb62",
   "metadata": {},
   "outputs": [
    {
     "data": {
      "text/plain": [
       "array(['Won', 'Draft', 'To be approved', 'Lost', 'Not lost for AM',\n",
       "       'Wonderful', 'Revised', 'Offered', 'Offerable'], dtype=object)"
      ]
     },
     "execution_count": 61,
     "metadata": {},
     "output_type": "execute_result"
    }
   ],
   "source": [
    "rc['status'].unique()"
   ]
  },
  {
   "cell_type": "code",
   "execution_count": 62,
   "id": "f9d6efcc",
   "metadata": {},
   "outputs": [
    {
     "data": {
      "text/plain": [
       "array(['Won', 'Draft', 'To be approved', 'Lost', 'Not lost for AM',\n",
       "       'Wonderful', 'Revised', 'Offered', 'Offerable'], dtype=object)"
      ]
     },
     "execution_count": 62,
     "metadata": {},
     "output_type": "execute_result"
    }
   ],
   "source": [
    "rdf['status'].unique()"
   ]
  },
  {
   "cell_type": "code",
   "execution_count": 63,
   "id": "bded31cb",
   "metadata": {},
   "outputs": [
    {
     "data": {
      "text/plain": [
       "array(['DEQ1 S460MC', '104991', 'S0380700', ..., 'MAS65550',\n",
       "       '4.11043_1060X5_BRE', '202006170005.IO.1.1'], dtype=object)"
      ]
     },
     "execution_count": 63,
     "metadata": {},
     "output_type": "execute_result"
    }
   ],
   "source": [
    "df['material_ref'].unique()"
   ]
  },
  {
   "cell_type": "code",
   "execution_count": 64,
   "id": "725f4c77",
   "metadata": {},
   "outputs": [],
   "source": [
    "rdf['status']=oe.fit_transform(rdf[['status']])\n"
   ]
  },
  {
   "cell_type": "code",
   "execution_count": 65,
   "id": "e2f35012",
   "metadata": {},
   "outputs": [],
   "source": [
    "rdf['item type']=oe.fit_transform(rdf[['item type']])"
   ]
  },
  {
   "cell_type": "code",
   "execution_count": 66,
   "id": "c0585d76",
   "metadata": {},
   "outputs": [
    {
     "data": {
      "text/plain": [
       "array(['DEQ1 S460MC', '104991', 'S0380700', ..., 'MAS65550',\n",
       "       '4.11043_1060X5_BRE', '202006170005.IO.1.1'], dtype=object)"
      ]
     },
     "execution_count": 66,
     "metadata": {},
     "output_type": "execute_result"
    }
   ],
   "source": [
    "rdf['material_ref'].unique()"
   ]
  },
  {
   "cell_type": "code",
   "execution_count": 67,
   "id": "873d8e4a",
   "metadata": {},
   "outputs": [],
   "source": [
    "rdf=rdf.dropna()"
   ]
  },
  {
   "cell_type": "code",
   "execution_count": 68,
   "id": "043c9322",
   "metadata": {},
   "outputs": [
    {
     "data": {
      "text/html": [
       "<div>\n",
       "<style scoped>\n",
       "    .dataframe tbody tr th:only-of-type {\n",
       "        vertical-align: middle;\n",
       "    }\n",
       "\n",
       "    .dataframe tbody tr th {\n",
       "        vertical-align: top;\n",
       "    }\n",
       "\n",
       "    .dataframe thead th {\n",
       "        text-align: right;\n",
       "    }\n",
       "</style>\n",
       "<table border=\"1\" class=\"dataframe\">\n",
       "  <thead>\n",
       "    <tr style=\"text-align: right;\">\n",
       "      <th></th>\n",
       "      <th>id</th>\n",
       "      <th>item_date</th>\n",
       "      <th>quantity tons</th>\n",
       "      <th>customer</th>\n",
       "      <th>country</th>\n",
       "      <th>status</th>\n",
       "      <th>item type</th>\n",
       "      <th>application</th>\n",
       "      <th>thickness</th>\n",
       "      <th>width</th>\n",
       "      <th>material_ref</th>\n",
       "      <th>product_ref</th>\n",
       "      <th>delivery date</th>\n",
       "      <th>selling_price</th>\n",
       "      <th>thichness</th>\n",
       "      <th>selling_price_log</th>\n",
       "      <th>quantity tons_log</th>\n",
       "      <th>thickness_log</th>\n",
       "    </tr>\n",
       "  </thead>\n",
       "  <tbody>\n",
       "    <tr>\n",
       "      <th>0</th>\n",
       "      <td>EC06F063-9DF0-440C-8764-0B0C05A4F6AE</td>\n",
       "      <td>2021-04-01</td>\n",
       "      <td>54.151139</td>\n",
       "      <td>30156308.0</td>\n",
       "      <td>28.0</td>\n",
       "      <td>7.0</td>\n",
       "      <td>5.0</td>\n",
       "      <td>10.0</td>\n",
       "      <td>2.00</td>\n",
       "      <td>1500.0</td>\n",
       "      <td>DEQ1 S460MC</td>\n",
       "      <td>1670798778</td>\n",
       "      <td>2021-07-01</td>\n",
       "      <td>854.00</td>\n",
       "      <td>2.00</td>\n",
       "      <td>6.749931</td>\n",
       "      <td>3.991779</td>\n",
       "      <td>0.693147</td>\n",
       "    </tr>\n",
       "    <tr>\n",
       "      <th>1</th>\n",
       "      <td>4E5F4B3D-DDDF-499D-AFDE-A3227EC49425</td>\n",
       "      <td>2021-04-01</td>\n",
       "      <td>768.024839</td>\n",
       "      <td>30202938.0</td>\n",
       "      <td>25.0</td>\n",
       "      <td>7.0</td>\n",
       "      <td>5.0</td>\n",
       "      <td>41.0</td>\n",
       "      <td>0.80</td>\n",
       "      <td>1210.0</td>\n",
       "      <td>104991</td>\n",
       "      <td>1668701718</td>\n",
       "      <td>2021-04-01</td>\n",
       "      <td>1047.00</td>\n",
       "      <td>0.80</td>\n",
       "      <td>6.953684</td>\n",
       "      <td>6.643822</td>\n",
       "      <td>-0.223144</td>\n",
       "    </tr>\n",
       "    <tr>\n",
       "      <th>2</th>\n",
       "      <td>E140FF1B-2407-4C02-A0DD-780A093B1158</td>\n",
       "      <td>2021-04-01</td>\n",
       "      <td>386.127949</td>\n",
       "      <td>30153963.0</td>\n",
       "      <td>30.0</td>\n",
       "      <td>7.0</td>\n",
       "      <td>6.0</td>\n",
       "      <td>28.0</td>\n",
       "      <td>0.38</td>\n",
       "      <td>952.0</td>\n",
       "      <td>S0380700</td>\n",
       "      <td>628377</td>\n",
       "      <td>2021-01-01</td>\n",
       "      <td>644.33</td>\n",
       "      <td>0.38</td>\n",
       "      <td>6.468211</td>\n",
       "      <td>5.956169</td>\n",
       "      <td>-0.967584</td>\n",
       "    </tr>\n",
       "    <tr>\n",
       "      <th>3</th>\n",
       "      <td>F8D507A0-9C62-4EFE-831E-33E1DA53BB50</td>\n",
       "      <td>2021-04-01</td>\n",
       "      <td>202.411065</td>\n",
       "      <td>30349574.0</td>\n",
       "      <td>32.0</td>\n",
       "      <td>7.0</td>\n",
       "      <td>3.0</td>\n",
       "      <td>59.0</td>\n",
       "      <td>2.30</td>\n",
       "      <td>1317.0</td>\n",
       "      <td>DX51D+ZM310MAO 2.3X1317</td>\n",
       "      <td>1668701718</td>\n",
       "      <td>2021-01-01</td>\n",
       "      <td>768.00</td>\n",
       "      <td>2.30</td>\n",
       "      <td>6.643790</td>\n",
       "      <td>5.310301</td>\n",
       "      <td>0.832909</td>\n",
       "    </tr>\n",
       "    <tr>\n",
       "      <th>4</th>\n",
       "      <td>4E1C4E78-152B-430A-8094-ADD889C9D0AD</td>\n",
       "      <td>2021-04-01</td>\n",
       "      <td>785.526262</td>\n",
       "      <td>30211560.0</td>\n",
       "      <td>28.0</td>\n",
       "      <td>7.0</td>\n",
       "      <td>5.0</td>\n",
       "      <td>10.0</td>\n",
       "      <td>4.00</td>\n",
       "      <td>2000.0</td>\n",
       "      <td>2_S275JR+AR-CL1</td>\n",
       "      <td>640665</td>\n",
       "      <td>2021-03-01</td>\n",
       "      <td>577.00</td>\n",
       "      <td>4.00</td>\n",
       "      <td>6.357842</td>\n",
       "      <td>6.666354</td>\n",
       "      <td>1.386294</td>\n",
       "    </tr>\n",
       "  </tbody>\n",
       "</table>\n",
       "</div>"
      ],
      "text/plain": [
       "                                     id   item_date  quantity tons  \\\n",
       "0  EC06F063-9DF0-440C-8764-0B0C05A4F6AE  2021-04-01      54.151139   \n",
       "1  4E5F4B3D-DDDF-499D-AFDE-A3227EC49425  2021-04-01     768.024839   \n",
       "2  E140FF1B-2407-4C02-A0DD-780A093B1158  2021-04-01     386.127949   \n",
       "3  F8D507A0-9C62-4EFE-831E-33E1DA53BB50  2021-04-01     202.411065   \n",
       "4  4E1C4E78-152B-430A-8094-ADD889C9D0AD  2021-04-01     785.526262   \n",
       "\n",
       "     customer  country  status  item type  application  thickness   width  \\\n",
       "0  30156308.0     28.0     7.0        5.0         10.0       2.00  1500.0   \n",
       "1  30202938.0     25.0     7.0        5.0         41.0       0.80  1210.0   \n",
       "2  30153963.0     30.0     7.0        6.0         28.0       0.38   952.0   \n",
       "3  30349574.0     32.0     7.0        3.0         59.0       2.30  1317.0   \n",
       "4  30211560.0     28.0     7.0        5.0         10.0       4.00  2000.0   \n",
       "\n",
       "              material_ref  product_ref delivery date  selling_price  \\\n",
       "0              DEQ1 S460MC   1670798778    2021-07-01         854.00   \n",
       "1                   104991   1668701718    2021-04-01        1047.00   \n",
       "2                 S0380700       628377    2021-01-01         644.33   \n",
       "3  DX51D+ZM310MAO 2.3X1317   1668701718    2021-01-01         768.00   \n",
       "4          2_S275JR+AR-CL1       640665    2021-03-01         577.00   \n",
       "\n",
       "   thichness  selling_price_log  quantity tons_log  thickness_log  \n",
       "0       2.00           6.749931           3.991779       0.693147  \n",
       "1       0.80           6.953684           6.643822      -0.223144  \n",
       "2       0.38           6.468211           5.956169      -0.967584  \n",
       "3       2.30           6.643790           5.310301       0.832909  \n",
       "4       4.00           6.357842           6.666354       1.386294  "
      ]
     },
     "execution_count": 68,
     "metadata": {},
     "output_type": "execute_result"
    }
   ],
   "source": [
    "rdf.head()"
   ]
  },
  {
   "cell_type": "code",
   "execution_count": 69,
   "id": "1acb3fcc",
   "metadata": {},
   "outputs": [],
   "source": [
    "x=rdf[['quantity tons_log','status','item type','application','thickness_log','width','country','customer','product_ref']]\n",
    "y=rdf['selling_price_log']"
   ]
  },
  {
   "cell_type": "code",
   "execution_count": 44,
   "id": "acaf1727",
   "metadata": {},
   "outputs": [],
   "source": [
    "from sklearn.preprocessing import StandardScaler\n",
    "ss=StandardScaler()"
   ]
  },
  {
   "cell_type": "code",
   "execution_count": 45,
   "id": "f7aafb87",
   "metadata": {},
   "outputs": [
    {
     "data": {
      "text/plain": [
       "array([[ 0.41506739,  0.70620108,  0.82144631, ..., -0.69225033,\n",
       "        -0.75771563,  1.66790511],\n",
       "       [ 2.25042993,  0.70620108,  0.82144631, ..., -0.81517858,\n",
       "        -0.29403459,  1.66498251],\n",
       "       [ 1.77453529,  0.70620108,  1.76911846, ..., -0.61029817,\n",
       "        -0.78103392, -0.65974878],\n",
       "       ...,\n",
       "       [ 1.34669579,  0.70620108,  0.82144631, ..., -0.81517858,\n",
       "        -0.31475754, -0.43186654],\n",
       "       [-1.34846834,  0.70620108,  0.82144631, ..., -0.81517858,\n",
       "        -0.31475754, -0.43186654],\n",
       "       [ 1.81043496,  0.70620108,  0.82144631, ..., -0.81517858,\n",
       "        -0.31475754, -0.43186654]])"
      ]
     },
     "execution_count": 45,
     "metadata": {},
     "output_type": "execute_result"
    }
   ],
   "source": [
    "ss.fit_transform(x)"
   ]
  },
  {
   "cell_type": "code",
   "execution_count": 46,
   "id": "8386a446",
   "metadata": {},
   "outputs": [],
   "source": [
    "from sklearn.model_selection import train_test_split\n",
    "x_train,x_test,y_train,y_test=train_test_split(x,y,test_size=0.3,random_state=1)"
   ]
  },
  {
   "cell_type": "code",
   "execution_count": 47,
   "id": "bf222656",
   "metadata": {},
   "outputs": [
    {
     "name": "stdout",
     "output_type": "stream",
     "text": [
      "(127134, 9) (127134,)\n"
     ]
    }
   ],
   "source": [
    "print(x_train.shape, y_train.shape)"
   ]
  },
  {
   "cell_type": "code",
   "execution_count": 48,
   "id": "81ddda59",
   "metadata": {},
   "outputs": [
    {
     "name": "stdout",
     "output_type": "stream",
     "text": [
      "(54486, 9) (54486,)\n"
     ]
    }
   ],
   "source": [
    "print(x_test.shape, y_test.shape)"
   ]
  },
  {
   "cell_type": "code",
   "execution_count": 49,
   "id": "6d7f14c5",
   "metadata": {},
   "outputs": [],
   "source": [
    "from sklearn.linear_model import LinearRegression\n",
    "from sklearn.tree import DecisionTreeRegressor\n",
    "from sklearn.ensemble import RandomForestRegressor\n",
    "from sklearn.ensemble import AdaBoostRegressor\n",
    "from sklearn.ensemble import GradientBoostingRegressor\n",
    "from sklearn.ensemble import ExtraTreesRegressor\n",
    "from sklearn.metrics import mean_absolute_error, mean_squared_error, r2_score"
   ]
  },
  {
   "cell_type": "markdown",
   "id": "f76fb8d9",
   "metadata": {},
   "source": [
    "### Linear Regression"
   ]
  },
  {
   "cell_type": "code",
   "execution_count": 50,
   "id": "c084071a",
   "metadata": {},
   "outputs": [
    {
     "name": "stdout",
     "output_type": "stream",
     "text": [
      "Linear Regression Training Score : 0.08385746206265177\n",
      "Linear Regression Testing Score : 0.08353298545138121\n",
      "Linear Regression Mean Absolute Error: 0.26977731015919193\n",
      "Linear Regression Mean Squared Error: 0.2879533588129296\n",
      "Linear Regression Root Mean Squared Error (RMSE): 0.5366128574800735\n",
      "Linear Regression R2 Score: 0.08353298545138121\n"
     ]
    }
   ],
   "source": [
    "lr=LinearRegression()\n",
    "lr.fit(x_train,y_train)\n",
    "lr_pred=lr.predict(x_test)\n",
    "lr_mae = mean_absolute_error(y_test, lr_pred)\n",
    "lr_mse = mean_squared_error(y_test, lr_pred)\n",
    "lr_rmse = np.sqrt(lr_mse)\n",
    "lr_r2 = r2_score(y_test, lr_pred)\n",
    "lr_training_score=lr.score(x_train,y_train)\n",
    "lr_testing_score=lr.score(x_test,y_test)\n",
    "print(\"Linear Regression Training Score :\",lr_training_score)\n",
    "print(\"Linear Regression Testing Score :\",lr_testing_score)\n",
    "print(\"Linear Regression Mean Absolute Error:\", lr_mae)\n",
    "print(\"Linear Regression Mean Squared Error:\", lr_mse)\n",
    "print(\"Linear Regression Root Mean Squared Error (RMSE):\", lr_rmse)\n",
    "print(\"Linear Regression R2 Score:\", lr_r2)"
   ]
  },
  {
   "cell_type": "raw",
   "id": "9d79a207",
   "metadata": {},
   "source": [
    "from sklearn.linear_model import LinearRegression, Ridge, Lasso\n",
    "\n",
    "models = [LinearRegression(), Ridge(alpha=1.0), Lasso(alpha=1.0)]\n",
    "model_names = [\"Linear Regression\", \"Ridge Regression\", \"Lasso Regression\"]\n",
    "best_model = None\n",
    "best_rmse = float('inf')\n",
    "\n",
    "for model, model_name in zip(models, model_names):\n",
    "    model.fit(x_train, y_train)\n",
    "    y_val_pred = model.predict(x_test)\n",
    "    rmse = np.sqrt(mean_squared_error(y_test, y_val_pred))\n",
    "    test_score=model.score(x_test,y_test)\n",
    "    \n",
    "    print(f\"{model_name} RMSE on Validation Set: {rmse}\")\n",
    "    print(\"test score\",test_score)\n",
    "    \n",
    "    if rmse < best_rmse:\n",
    "        best_rmse = rmse\n",
    "        best_model = model\n",
    "\n",
    "# Evaluate the best model on the test set\n",
    "y_test_pred = best_model.predict(x_test)\n",
    "test_rmse = np.sqrt(mean_squared_error(y_test, y_test_pred))\n",
    "print(f\"Best Model (based on RMSE) RMSE on Test Set: {test_rmse}\")\n",
    "print(\"Best Model \", best_model)"
   ]
  },
  {
   "cell_type": "code",
   "execution_count": 51,
   "id": "a706cf1d",
   "metadata": {},
   "outputs": [
    {
     "name": "stdout",
     "output_type": "stream",
     "text": [
      "Decision Tree Training Score : 1.0\n",
      "Decision Tree Testing Score : 0.8679538794701309\n",
      "Decision Tree Mean Absolute Error: 0.12519791206010866\n",
      "Decision Tree Mean Squared Error: 0.04148880791254666\n",
      "Decision Tree Root Mean Squared Error (RMSE): 0.20368801612403872\n",
      "Decision Tree R2 Score: 0.8679538794701309\n"
     ]
    }
   ],
   "source": [
    "dt=DecisionTreeRegressor()\n",
    "dt.fit(x_train,y_train)\n",
    "dt_pred=dt.predict(x_test)\n",
    "dt_mae = mean_absolute_error(y_test, dt_pred)\n",
    "dt_mse = mean_squared_error(y_test, dt_pred)\n",
    "dt_rmse = np.sqrt(dt_mse)\n",
    "dt_r2 = r2_score(y_test, dt_pred)\n",
    "dt_training_score=dt.score(x_train,y_train)\n",
    "dt_testing_score=dt.score(x_test,y_test)\n",
    "print(\"Decision Tree Training Score :\",dt_training_score)\n",
    "print(\"Decision Tree Testing Score :\",dt_testing_score)\n",
    "print(\"Decision Tree Mean Absolute Error:\", dt_mae)\n",
    "print(\"Decision Tree Mean Squared Error:\", dt_mse)\n",
    "print(\"Decision Tree Root Mean Squared Error (RMSE):\", dt_rmse)\n",
    "print(\"Decision Tree R2 Score:\", dt_r2)"
   ]
  },
  {
   "cell_type": "code",
   "execution_count": 52,
   "id": "f23742da",
   "metadata": {},
   "outputs": [
    {
     "name": "stdout",
     "output_type": "stream",
     "text": [
      "Random Forest Mean Absolute Error: 0.1063938287157271\n",
      "Random Forest Mean Squared Error: 0.022785523386146082\n",
      "Random Forest Root Mean Squared Error (RMSE): 0.15094874423507498\n",
      "Random Forest R2 Score: 0.9274806840985826\n",
      "Random Forest Training Score : 0.9898212993185388\n",
      "Random Forest Testing Score : 0.9274806840985826\n"
     ]
    }
   ],
   "source": [
    "rf=RandomForestRegressor(random_state=1)\n",
    "rf.fit(x_train,y_train)\n",
    "rf_pred=rf.predict(x_test)\n",
    "rf_mae = mean_absolute_error(y_test, rf_pred)\n",
    "rf_mse = mean_squared_error(y_test, rf_pred)\n",
    "rf_rmse = np.sqrt(rf_mse)\n",
    "rf_r2 = r2_score(y_test, rf_pred)\n",
    "rf_training_score=rf.score(x_train,y_train)\n",
    "rf_testing_score=rf.score(x_test,y_test)\n",
    "print(\"Random Forest Mean Absolute Error:\", rf_mae)\n",
    "print(\"Random Forest Mean Squared Error:\", rf_mse)\n",
    "print(\"Random Forest Root Mean Squared Error (RMSE):\", rf_rmse)\n",
    "print(\"Random Forest R2 Score:\", rf_r2)\n",
    "print(\"Random Forest Training Score :\",rf.score(x_train,y_train))\n",
    "print(\"Random Forest Testing Score :\",rf.score(x_test,y_test))"
   ]
  },
  {
   "cell_type": "code",
   "execution_count": 53,
   "id": "305fb9f8",
   "metadata": {},
   "outputs": [
    {
     "name": "stdout",
     "output_type": "stream",
     "text": [
      "Ada Boost Mean Absolute Error: 0.18975384505148102\n",
      "Ada Boost Mean Squared Error: 0.05891114114936472\n",
      "Ada Boost Root Mean Squared Error (RMSE): 0.24271617405802343\n",
      "Ada Boost R2 Score: 0.8125039489888863\n",
      "Ada Boost Training Score : 0.8232909682293426\n",
      "Ada Boost Testing Score : 0.8125039489888863\n"
     ]
    }
   ],
   "source": [
    "ab=AdaBoostRegressor()\n",
    "ab.fit(x_train,y_train)\n",
    "ab_pred=ab.predict(x_test)\n",
    "ab_mae = mean_absolute_error(y_test, ab_pred)\n",
    "ab_mse = mean_squared_error(y_test, ab_pred)\n",
    "ab_rmse = np.sqrt(ab_mse)\n",
    "ab_r2 = r2_score(y_test, ab_pred)\n",
    "ab_training_score=ab.score(x_train,y_train)\n",
    "ab_testing_score=ab.score(x_test,y_test)\n",
    "\n",
    "print(\"Ada Boost Mean Absolute Error:\", ab_mae)\n",
    "print(\"Ada Boost Mean Squared Error:\", ab_mse)\n",
    "print(\"Ada Boost Root Mean Squared Error (RMSE):\", ab_rmse)\n",
    "print(\"Ada Boost R2 Score:\", ab_r2)\n",
    "print(\"Ada Boost Training Score :\",ab.score(x_train,y_train))\n",
    "print(\"Ada Boost Testing Score :\",ab.score(x_test,y_test))"
   ]
  },
  {
   "cell_type": "code",
   "execution_count": 54,
   "id": "51f7c322",
   "metadata": {},
   "outputs": [
    {
     "name": "stdout",
     "output_type": "stream",
     "text": [
      "Gradient Boost Mean Absolute Error: 0.15422269110478773\n",
      "Gradient Boost Mean Squared Error: 0.03499973203667608\n",
      "Gradient Boost Root Mean Squared Error (RMSE): 0.18708215317521892\n",
      "Gradient Boost R2 Score: 0.8886066130227271\n",
      "Gradient Boost Training Score: 0.894068367623351\n",
      "Gradient Boost Testing Score: 0.8886066130227271\n"
     ]
    }
   ],
   "source": [
    "gb=GradientBoostingRegressor()\n",
    "gb.fit(x_train,y_train)\n",
    "gb_pred=gb.predict(x_test)\n",
    "gb_mae = mean_absolute_error(y_test, gb_pred)\n",
    "gb_mse = mean_squared_error(y_test, gb_pred)\n",
    "gb_rmse = np.sqrt(gb_mse)\n",
    "gb_r2 = r2_score(y_test, gb_pred)\n",
    "gb_training_score=gb.score(x_train,y_train)\n",
    "gb_testing_score=gb.score(x_test,y_test)\n",
    "print(\"Gradient Boost Mean Absolute Error:\", gb_mae)\n",
    "print(\"Gradient Boost Mean Squared Error:\", gb_mse)\n",
    "print(\"Gradient Boost Root Mean Squared Error (RMSE):\", gb_rmse)\n",
    "print(\"Gradient Boost R2 Score:\", gb_r2)\n",
    "print(\"Gradient Boost Training Score:\",gb.score(x_train,y_train))\n",
    "print(\"Gradient Boost Testing Score:\",gb.score(x_test,y_test))"
   ]
  },
  {
   "cell_type": "code",
   "execution_count": 55,
   "id": "5198466f",
   "metadata": {},
   "outputs": [
    {
     "name": "stdout",
     "output_type": "stream",
     "text": [
      "Extra Tree Mean Absolute Error: 0.11298041129620759\n",
      "Extra Tree Mean Squared Error: 0.030188870382629386\n",
      "Extra Tree Root Mean Squared Error (RMSE): 0.17374944714337764\n",
      "Extra Tree R2 Score: 0.9039181066467863\n",
      "Extra Tree Training Score: 1.0\n",
      "Extra Tree Testing Score: 0.9039181066467863\n"
     ]
    }
   ],
   "source": [
    "et=ExtraTreesRegressor()\n",
    "et.fit(x_train,y_train)\n",
    "et_pred=et.predict(x_test)\n",
    "et_mae = mean_absolute_error(y_test, et_pred)\n",
    "et_mse = mean_squared_error(y_test, et_pred)\n",
    "et_rmse = np.sqrt(et_mse)\n",
    "et_r2 = r2_score(y_test, et_pred)\n",
    "et_training_score=et.score(x_train,y_train)\n",
    "et_testing_score=et.score(x_test,y_test)\n",
    "print(\"Extra Tree Mean Absolute Error:\", et_mae)\n",
    "print(\"Extra Tree Mean Squared Error:\", et_mse)\n",
    "print(\"Extra Tree Root Mean Squared Error (RMSE):\", et_rmse)\n",
    "print(\"Extra Tree R2 Score:\", et_r2)\n",
    "print(\"Extra Tree Training Score:\",et.score(x_train,y_train))\n",
    "print(\"Extra Tree Testing Score:\",et.score(x_test,y_test))"
   ]
  },
  {
   "cell_type": "code",
   "execution_count": 56,
   "id": "2adc83ca",
   "metadata": {},
   "outputs": [],
   "source": [
    "rmse=[lr_rmse,dt_rmse,rf_rmse,ab_rmse,gb_rmse,et_rmse]\n",
    "r2=[lr_r2,dt_r2,rf_r2,ab_r2,gb_r2,et_r2]\n"
   ]
  },
  {
   "cell_type": "code",
   "execution_count": 57,
   "id": "72a0b0ef",
   "metadata": {},
   "outputs": [
    {
     "name": "stdout",
     "output_type": "stream",
     "text": [
      "[0.5366128574800735, 0.20368801612403872, 0.15094874423507498, 0.24271617405802343, 0.18708215317521892, 0.17374944714337764] [0.08353298545138121, 0.8679538794701309, 0.9274806840985826, 0.8125039489888863, 0.8886066130227271, 0.9039181066467863]\n"
     ]
    }
   ],
   "source": [
    "print(rmse,r2)"
   ]
  },
  {
   "cell_type": "code",
   "execution_count": 58,
   "id": "189bbb89",
   "metadata": {},
   "outputs": [],
   "source": [
    "model_names=['Linear','Decision','Random','Ada','Gradient','Extra']"
   ]
  },
  {
   "cell_type": "code",
   "execution_count": 59,
   "id": "fac0a4c5",
   "metadata": {},
   "outputs": [
    {
     "data": {
      "image/png": "[encoded data removed]",
      "text/plain": [
       "<Figure size 640x480 with 1 Axes>"
      ]
     },
     "metadata": {},
     "output_type": "display_data"
    }
   ],
   "source": [
    "x_labels = np.arange(len(model_names))\n",
    "\n",
    "# Plot RMSE scores\n",
    "plt.bar(x_labels - 0.2, rmse, width=0.4, label=\"RMSE\")\n",
    "# Plot R2 scores\n",
    "plt.bar(x_labels + 0.2, r2, width=0.4, label=\"R-squared\")\n",
    "\n",
    "# Set x-axis labels\n",
    "plt.xticks(x_labels, model_names)\n",
    "\n",
    "# Add labels and legend\n",
    "plt.xlabel(\"Models\")\n",
    "plt.ylabel(\"Scores\")\n",
    "plt.title(\"Model Comparison: RMSE and R-squared\")\n",
    "plt.legend()\n",
    "\n",
    "# Show the plot\n",
    "plt.show()"
   ]
  },
  {
   "cell_type": "code",
   "execution_count": 60,
   "id": "7a901b54",
   "metadata": {},
   "outputs": [],
   "source": [
    "import pickle\n",
    "\n",
    "# Assuming you have a trained model called 'model'\n",
    "model_filename = 'rf_reg.pkl'\n",
    "with open(model_filename, 'wb') as file:\n",
    "    pickle.dump(rf, file)\n"
   ]
  },
  {
   "cell_type": "code",
   "execution_count": 61,
   "id": "c68c5957",
   "metadata": {},
   "outputs": [],
   "source": [
    "#[['quantity tons_log','status','item type','application','thickness_log','width','country','customer','product_ref']]\n",
    "# quantity tons\tcustomer\tcountry\tstatus\titem type\tapplication\tthickness\twidth\tmaterial_ref\tproduct_ref\tdelivery date\tselling_price\tthichness\tselling_price_log\tquantity tons_log\tthickness_log\n",
    "# 768.024839\t30202938.0\t25.0\t7.0 \t   5.0  \t41.0    \t0.80    \t1210.0 \t104991      \t1668701718\t2021-04-01  \t1047.00     \t0.80    \t6.953684        \t6.643822        \t-0.223144\n",
    "input_data=[[np.log(float(768.024839)),7.0, 5.0, 41.0,np.log(float(0.80)),1210.0,25.0,30202938.0,1668701718 ]]\n"
   ]
  },
  {
   "cell_type": "code",
   "execution_count": 62,
   "id": "2b88e80b",
   "metadata": {},
   "outputs": [],
   "source": [
    "ss_input_data=ss.transform(input_data)"
   ]
  },
  {
   "cell_type": "code",
   "execution_count": 63,
   "id": "05d47fa4",
   "metadata": {},
   "outputs": [
    {
     "data": {
      "text/plain": [
       "array([[ 2.25042993,  0.70620108,  0.82144631,  0.8665426 , -0.75339772,\n",
       "        -0.32589119, -0.81517858, -0.29403459,  1.66498251]])"
      ]
     },
     "execution_count": 63,
     "metadata": {},
     "output_type": "execute_result"
    }
   ],
   "source": [
    "ss_input_data"
   ]
  },
  {
   "cell_type": "code",
   "execution_count": 64,
   "id": "537bc94d",
   "metadata": {},
   "outputs": [],
   "source": [
    "with open('rf_reg.pkl', 'rb') as file:\n",
    "    loaded_model = pickle.load(file)\n"
   ]
  },
  {
   "cell_type": "code",
   "execution_count": 65,
   "id": "d9f5b078",
   "metadata": {},
   "outputs": [],
   "source": [
    "prediction=loaded_model.predict(ss_input_data)"
   ]
  },
  {
   "cell_type": "code",
   "execution_count": 66,
   "id": "1a84537d",
   "metadata": {},
   "outputs": [
    {
     "data": {
      "text/plain": [
       "array([1207.01572564])"
      ]
     },
     "execution_count": 66,
     "metadata": {},
     "output_type": "execute_result"
    }
   ],
   "source": [
    "Output=np.exp(prediction)\n",
    "Output"
   ]
  },
  {
   "cell_type": "code",
   "execution_count": null,
   "id": "b8adeb80",
   "metadata": {},
   "outputs": [],
   "source": []
  },
  {
   "cell_type": "markdown",
   "id": "5f2974c3",
   "metadata": {},
   "source": [
    "# Classification\n"
   ]
  },
  {
   "cell_type": "code",
   "execution_count": 118,
   "id": "9cdd6de9",
   "metadata": {},
   "outputs": [],
   "source": [
    "from imblearn.over_sampling import SMOTE"
   ]
  },
  {
   "cell_type": "code",
   "execution_count": 119,
   "id": "a4efd6df",
   "metadata": {},
   "outputs": [],
   "source": [
    "cdf=df.copy()"
   ]
  },
  {
   "cell_type": "code",
   "execution_count": 120,
   "id": "37bcd27c",
   "metadata": {},
   "outputs": [
    {
     "data": {
      "text/plain": [
       "150435"
      ]
     },
     "execution_count": 120,
     "metadata": {},
     "output_type": "execute_result"
    }
   ],
   "source": [
    "cdf = df[df['status'].isin(['Won', 'Lost'])]\n",
    "len(cdf)"
   ]
  },
  {
   "cell_type": "code",
   "execution_count": 121,
   "id": "f0f9c787",
   "metadata": {},
   "outputs": [
    {
     "data": {
      "text/plain": [
       "Won     116004\n",
       "Lost     34431\n",
       "Name: status, dtype: int64"
      ]
     },
     "execution_count": 121,
     "metadata": {},
     "output_type": "execute_result"
    }
   ],
   "source": [
    "cdf.status.value_counts()"
   ]
  },
  {
   "cell_type": "code",
   "execution_count": 122,
   "id": "599befc8",
   "metadata": {},
   "outputs": [
    {
     "data": {
      "text/plain": [
       "34431"
      ]
     },
     "execution_count": 122,
     "metadata": {},
     "output_type": "execute_result"
    }
   ],
   "source": [
    "cdf['status']=oe.fit_transform(cdf[['status']])\n",
    "(cdf['status']==0).sum()"
   ]
  },
  {
   "cell_type": "code",
   "execution_count": 123,
   "id": "ef350651",
   "metadata": {},
   "outputs": [],
   "source": [
    "cdf['item type']=oe.fit_transform(cdf[['item type']])"
   ]
  },
  {
   "cell_type": "code",
   "execution_count": 124,
   "id": "2a70feb6",
   "metadata": {},
   "outputs": [],
   "source": [
    "x = cdf[['quantity tons','selling_price','item type','application','thickness','width','country','customer','product_ref']]\n",
    "y = cdf['status']"
   ]
  },
  {
   "cell_type": "code",
   "execution_count": 125,
   "id": "baf42133",
   "metadata": {},
   "outputs": [
    {
     "data": {
      "text/plain": [
       "array([[-0.09139439,  0.09705592,  0.76978981, ..., -0.71017265,\n",
       "        -0.72507203,  1.6673573 ],\n",
       "       [ 1.52755772,  0.76054292,  0.76978981, ..., -0.83268141,\n",
       "        -0.2835426 ,  1.66443363],\n",
       "       [ 0.66147626, -0.62373848,  1.72295071, ..., -0.62850015,\n",
       "        -0.74727633, -0.66115687],\n",
       "       ...,\n",
       "       [-0.20459491, -0.71081685,  0.76978981, ..., -0.83268141,\n",
       "        -0.30327554, -0.43319041],\n",
       "       [-4.74988274, -0.77269647,  0.76978981, ..., -0.83268141,\n",
       "        -0.30327554, -0.43319041],\n",
       "       [ 0.70809988, -0.75206993,  0.76978981, ..., -0.83268141,\n",
       "        -0.30327554, -0.43319041]])"
      ]
     },
     "execution_count": 125,
     "metadata": {},
     "output_type": "execute_result"
    }
   ],
   "source": [
    "ss=StandardScaler()\n",
    "ss.fit_transform(x)"
   ]
  },
  {
   "cell_type": "code",
   "execution_count": 126,
   "id": "d4a18e3f",
   "metadata": {},
   "outputs": [],
   "source": [
    "x_train,x_test,y_train,y_test=train_test_split(x,y,test_size=0.2,random_state=1)"
   ]
  },
  {
   "cell_type": "code",
   "execution_count": 127,
   "id": "3dd41744",
   "metadata": {},
   "outputs": [],
   "source": [
    "smote = SMOTE(sampling_strategy='auto', random_state=1)\n",
    "x_resampled, y_resampled = smote.fit_resample(x_train, y_train)"
   ]
  },
  {
   "cell_type": "code",
   "execution_count": 128,
   "id": "b7c8d359",
   "metadata": {},
   "outputs": [
    {
     "data": {
      "text/plain": [
       "((185806, 9), (30087, 9), (185806,), (30087,))"
      ]
     },
     "execution_count": 128,
     "metadata": {},
     "output_type": "execute_result"
    }
   ],
   "source": [
    "x_resampled.shape,x_test.shape,y_resampled.shape,y_test.shape"
   ]
  },
  {
   "cell_type": "code",
   "execution_count": 129,
   "id": "f146e1fa",
   "metadata": {},
   "outputs": [],
   "source": [
    "from sklearn.linear_model import LogisticRegression\n",
    "from sklearn.tree import DecisionTreeClassifier\n",
    "from sklearn.ensemble import RandomForestClassifier\n",
    "from sklearn.ensemble import AdaBoostClassifier\n",
    "from sklearn.ensemble import GradientBoostingClassifier\n",
    "from sklearn.ensemble import ExtraTreesClassifier\n",
    "from sklearn.metrics import accuracy_score"
   ]
  },
  {
   "cell_type": "code",
   "execution_count": 130,
   "id": "859b7f75",
   "metadata": {},
   "outputs": [
    {
     "name": "stdout",
     "output_type": "stream",
     "text": [
      "Logistic Regression Accuracy: 0.6483198723701267\n"
     ]
    }
   ],
   "source": [
    "lr=LogisticRegression()\n",
    "lr.fit(x_resampled,y_resampled)\n",
    "lr_pred=lr.predict(x_test)\n",
    "lr_acc=accuracy_score(lr_pred,y_test)\n",
    "print(\"Logistic Regression Accuracy:\",lr_acc)"
   ]
  },
  {
   "cell_type": "code",
   "execution_count": 131,
   "id": "8f29b530",
   "metadata": {},
   "outputs": [
    {
     "name": "stdout",
     "output_type": "stream",
     "text": [
      "Decision Tree Accuracy: 0.9080333698939741\n"
     ]
    }
   ],
   "source": [
    "dt=DecisionTreeClassifier()\n",
    "dt.fit(x_resampled,y_resampled)\n",
    "dt_pred=dt.predict(x_test)\n",
    "dt_acc=accuracy_score(dt_pred,y_test)\n",
    "print(\"Decision Tree Accuracy:\",dt_acc)"
   ]
  },
  {
   "cell_type": "code",
   "execution_count": 132,
   "id": "255675ff",
   "metadata": {},
   "outputs": [
    {
     "name": "stdout",
     "output_type": "stream",
     "text": [
      "Random Forest Accuracy: 0.9347891115764284\n"
     ]
    }
   ],
   "source": [
    "rf=RandomForestClassifier()\n",
    "rf.fit(x_resampled,y_resampled)\n",
    "rf_pred=rf.predict(x_test)\n",
    "rf_acc=accuracy_score(rf_pred,y_test)\n",
    "print(\"Random Forest Accuracy:\",rf_acc)"
   ]
  },
  {
   "cell_type": "code",
   "execution_count": 133,
   "id": "3909d3a3",
   "metadata": {},
   "outputs": [
    {
     "name": "stdout",
     "output_type": "stream",
     "text": [
      "Ada Boost Accuracy: 0.7373616512114867\n"
     ]
    }
   ],
   "source": [
    "ab=AdaBoostClassifier()\n",
    "ab.fit(x_resampled,y_resampled)\n",
    "ab_pred=ab.predict(x_test)\n",
    "ab_acc=accuracy_score(ab_pred,y_test)\n",
    "print(\"Ada Boost Accuracy:\",ab_acc)"
   ]
  },
  {
   "cell_type": "code",
   "execution_count": 134,
   "id": "46813e89",
   "metadata": {},
   "outputs": [
    {
     "name": "stdout",
     "output_type": "stream",
     "text": [
      "Gradient Boost Accuracy: 0.7691694087147273\n"
     ]
    }
   ],
   "source": [
    "gb=GradientBoostingClassifier()\n",
    "gb.fit(x_resampled,y_resampled)\n",
    "gb_pred=gb.predict(x_test)\n",
    "gb_acc=accuracy_score(gb_pred,y_test)\n",
    "print(\"Gradient Boost Accuracy:\",gb_acc)"
   ]
  },
  {
   "cell_type": "code",
   "execution_count": 135,
   "id": "21aa5034",
   "metadata": {},
   "outputs": [
    {
     "name": "stdout",
     "output_type": "stream",
     "text": [
      "Extra Tree Accuracy: 0.9332934489979061\n"
     ]
    }
   ],
   "source": [
    "et=ExtraTreesClassifier()\n",
    "et.fit(x_resampled,y_resampled)\n",
    "et_pred=et.predict(x_test)\n",
    "et_acc=accuracy_score(et_pred,y_test)\n",
    "print(\"Extra Tree Accuracy:\",et_acc)"
   ]
  },
  {
   "cell_type": "code",
   "execution_count": 136,
   "id": "1ce2af09",
   "metadata": {},
   "outputs": [
    {
     "data": {
      "text/plain": [
       "0.9347891115764284"
      ]
     },
     "execution_count": 136,
     "metadata": {},
     "output_type": "execute_result"
    }
   ],
   "source": [
    "acc=[lr_acc,dt_acc,rf_acc,ab_acc,gb_acc,et_acc]\n",
    "acc\n",
    "max(acc)"
   ]
  },
  {
   "cell_type": "code",
   "execution_count": 137,
   "id": "0e917557",
   "metadata": {},
   "outputs": [],
   "source": [
    "model_names=['LR','DT','RF','AB','GB','ET']"
   ]
  },
  {
   "cell_type": "code",
   "execution_count": 138,
   "id": "aeb5cbde",
   "metadata": {},
   "outputs": [
    {
     "data": {
      "image/png": "[encoded data removed]",
      "text/plain": [
       "<Figure size 640x480 with 1 Axes>"
      ]
     },
     "metadata": {},
     "output_type": "display_data"
    }
   ],
   "source": [
    "\n",
    "# Find the index of the model with the highest accuracy\n",
    "best_model_index = np.argmax(acc)\n",
    "\n",
    "# Create a figure and axis\n",
    "fig, ax = plt.subplots()\n",
    "\n",
    "# Plot RMSE scores\n",
    "bars = plt.bar(np.arange(len(model_names)), acc, width=0.4, label=\"Accuracy\")\n",
    "\n",
    "# Annotate the bar with the highest accuracy\n",
    "highest_accuracy = max(acc)\n",
    "ax.annotate(f'Highest: {highest_accuracy:.2f}', xy=(best_model_index, highest_accuracy), xytext=(best_model_index, highest_accuracy + 0.02),\n",
    "            arrowprops=dict(arrowstyle='->', lw=1.5))\n",
    "\n",
    "# Set x-axis labels\n",
    "plt.xticks(np.arange(len(model_names)), model_names)\n",
    "\n",
    "# Add labels and legend\n",
    "plt.xlabel(\"Models\")\n",
    "plt.ylabel(\"Accuracy\")\n",
    "plt.title(\"Model Comparison: Accuracy\")\n",
    "plt.legend()\n",
    "\n",
    "# Show the plot\n",
    "plt.show()"
   ]
  },
  {
   "cell_type": "code",
   "execution_count": 139,
   "id": "be6de60e",
   "metadata": {},
   "outputs": [],
   "source": [
    "import pickle\n",
    "\n",
    "# Assuming you have a trained model called 'model'\n",
    "model_filename = 'rf_clas.pkl'\n",
    "with open(model_filename, 'wb') as file:\n",
    "    pickle.dump(rf, file)\n"
   ]
  },
  {
   "cell_type": "code",
   "execution_count": 140,
   "id": "baf0ab49",
   "metadata": {},
   "outputs": [],
   "source": [
    "#'quantity tons','selling_price','item type','application','thickness','width','country','customer','product_ref'\n",
    "# # quantity tons\tcustomer\tcountry\tstatus\titem type\tapplication\tthickness\twidth\tmaterial_ref\tproduct_ref\tdelivery date\tselling_price\tthichness\tselling_price_log\tquantity tons_log\tthickness_log\n",
    "#    768.024839 \t30202938.0\t25.0\t7.0 \t   5.0  \t41.0    \t0.80    \t1210.0 \t104991      \t1668701718\t2021-04-01  \t1047.00     \t0.80    \t6.953684        \t6.643822        \t-0.223144\n",
    "input_data=[[768.0244839, 1047.00,5.0,41.0,0.80,1210.0, 25.0, 30202938,1668701718]]# Won Sample Input\n",
    "input_data=[[39.553513,1225.0,3.0,10.0,1.00,1500.0,77.0,30165992.0,164141591]] # Lost Sample Input\n"
   ]
  },
  {
   "cell_type": "code",
   "execution_count": 141,
   "id": "af07956c",
   "metadata": {},
   "outputs": [
    {
     "data": {
      "text/plain": [
       "array([[-0.12449948,  1.37246357, -1.13653199, -0.86140115, -0.22743095,\n",
       "         0.75953852,  1.29080371, -0.63337631, -0.43319041]])"
      ]
     },
     "execution_count": 141,
     "metadata": {},
     "output_type": "execute_result"
    }
   ],
   "source": [
    "ss_input_data=ss.transform(input_data)\n",
    "ss_input_data"
   ]
  },
  {
   "cell_type": "code",
   "execution_count": 142,
   "id": "e9b9cc5a",
   "metadata": {},
   "outputs": [],
   "source": [
    "with open('rf_clas.pkl', 'rb') as file:\n",
    "    loaded_model = pickle.load(file)"
   ]
  },
  {
   "cell_type": "code",
   "execution_count": 143,
   "id": "e1c38e13",
   "metadata": {},
   "outputs": [],
   "source": [
    "prediction=loaded_model.predict(ss_input_data)"
   ]
  },
  {
   "cell_type": "code",
   "execution_count": 144,
   "id": "4b68b0b7",
   "metadata": {},
   "outputs": [
    {
     "data": {
      "text/plain": [
       "array([1.])"
      ]
     },
     "execution_count": 144,
     "metadata": {},
     "output_type": "execute_result"
    }
   ],
   "source": [
    "prediction"
   ]
  },
  {
   "cell_type": "code",
   "execution_count": 145,
   "id": "aa115b6e",
   "metadata": {},
   "outputs": [
    {
     "name": "stdout",
     "output_type": "stream",
     "text": [
      "Won\n"
     ]
    }
   ],
   "source": [
    "print(\"Won\" if prediction[0]==1 else \"Loss\")"
   ]
  },
  {
   "cell_type": "code",
   "execution_count": 105,
   "id": "0ad4dcfa",
   "metadata": {},
   "outputs": [
    {
     "data": {
      "text/html": [
       "<div>\n",
       "<style scoped>\n",
       "    .dataframe tbody tr th:only-of-type {\n",
       "        vertical-align: middle;\n",
       "    }\n",
       "\n",
       "    .dataframe tbody tr th {\n",
       "        vertical-align: top;\n",
       "    }\n",
       "\n",
       "    .dataframe thead th {\n",
       "        text-align: right;\n",
       "    }\n",
       "</style>\n",
       "<table border=\"1\" class=\"dataframe\">\n",
       "  <thead>\n",
       "    <tr style=\"text-align: right;\">\n",
       "      <th></th>\n",
       "      <th>id</th>\n",
       "      <th>item_date</th>\n",
       "      <th>quantity tons</th>\n",
       "      <th>customer</th>\n",
       "      <th>country</th>\n",
       "      <th>status</th>\n",
       "      <th>item type</th>\n",
       "      <th>application</th>\n",
       "      <th>thickness</th>\n",
       "      <th>width</th>\n",
       "      <th>material_ref</th>\n",
       "      <th>product_ref</th>\n",
       "      <th>delivery date</th>\n",
       "      <th>selling_price</th>\n",
       "      <th>thichness</th>\n",
       "    </tr>\n",
       "  </thead>\n",
       "  <tbody>\n",
       "    <tr>\n",
       "      <th>171</th>\n",
       "      <td>C0BF3187-C4B3-4C63-ABDB-FCB0642A69C0</td>\n",
       "      <td>2021-04-01</td>\n",
       "      <td>8.718789</td>\n",
       "      <td>30223403.0</td>\n",
       "      <td>78.0</td>\n",
       "      <td>0.0</td>\n",
       "      <td>5.0</td>\n",
       "      <td>10.0</td>\n",
       "      <td>1.00</td>\n",
       "      <td>1500.0</td>\n",
       "      <td>Null</td>\n",
       "      <td>1668701718</td>\n",
       "      <td>2021-07-01</td>\n",
       "      <td>1253.0</td>\n",
       "      <td>1.00</td>\n",
       "    </tr>\n",
       "    <tr>\n",
       "      <th>174</th>\n",
       "      <td>66D8E20C-AF4A-47D7-8FDD-51DEA6EA1F05</td>\n",
       "      <td>2021-04-01</td>\n",
       "      <td>39.553513</td>\n",
       "      <td>30165992.0</td>\n",
       "      <td>77.0</td>\n",
       "      <td>0.0</td>\n",
       "      <td>3.0</td>\n",
       "      <td>10.0</td>\n",
       "      <td>1.00</td>\n",
       "      <td>1500.0</td>\n",
       "      <td>FZPA004640</td>\n",
       "      <td>164141591</td>\n",
       "      <td>2021-08-01</td>\n",
       "      <td>1225.0</td>\n",
       "      <td>1.00</td>\n",
       "    </tr>\n",
       "    <tr>\n",
       "      <th>175</th>\n",
       "      <td>4532B5EF-0446-4880-BC8E-242E89AB8DD6</td>\n",
       "      <td>2021-04-01</td>\n",
       "      <td>11.454558</td>\n",
       "      <td>30223403.0</td>\n",
       "      <td>78.0</td>\n",
       "      <td>0.0</td>\n",
       "      <td>5.0</td>\n",
       "      <td>10.0</td>\n",
       "      <td>4.00</td>\n",
       "      <td>1500.0</td>\n",
       "      <td>Null</td>\n",
       "      <td>1668701718</td>\n",
       "      <td>2021-07-01</td>\n",
       "      <td>1186.0</td>\n",
       "      <td>4.00</td>\n",
       "    </tr>\n",
       "    <tr>\n",
       "      <th>176</th>\n",
       "      <td>EE0BA8DE-38E9-4101-ADF9-B7B5B19A3525</td>\n",
       "      <td>2021-04-01</td>\n",
       "      <td>37.655526</td>\n",
       "      <td>30165992.0</td>\n",
       "      <td>77.0</td>\n",
       "      <td>0.0</td>\n",
       "      <td>3.0</td>\n",
       "      <td>10.0</td>\n",
       "      <td>0.80</td>\n",
       "      <td>1250.0</td>\n",
       "      <td>FZPA004640</td>\n",
       "      <td>164141591</td>\n",
       "      <td>2021-08-01</td>\n",
       "      <td>1249.0</td>\n",
       "      <td>0.80</td>\n",
       "    </tr>\n",
       "    <tr>\n",
       "      <th>179</th>\n",
       "      <td>1CDD04C3-6310-431F-B10A-F1C6B4F529DD</td>\n",
       "      <td>2021-04-01</td>\n",
       "      <td>10.291602</td>\n",
       "      <td>30223403.0</td>\n",
       "      <td>78.0</td>\n",
       "      <td>0.0</td>\n",
       "      <td>5.0</td>\n",
       "      <td>10.0</td>\n",
       "      <td>0.80</td>\n",
       "      <td>1500.0</td>\n",
       "      <td>Null</td>\n",
       "      <td>1668701718</td>\n",
       "      <td>2021-07-01</td>\n",
       "      <td>1284.0</td>\n",
       "      <td>0.80</td>\n",
       "    </tr>\n",
       "    <tr>\n",
       "      <th>...</th>\n",
       "      <td>...</td>\n",
       "      <td>...</td>\n",
       "      <td>...</td>\n",
       "      <td>...</td>\n",
       "      <td>...</td>\n",
       "      <td>...</td>\n",
       "      <td>...</td>\n",
       "      <td>...</td>\n",
       "      <td>...</td>\n",
       "      <td>...</td>\n",
       "      <td>...</td>\n",
       "      <td>...</td>\n",
       "      <td>...</td>\n",
       "      <td>...</td>\n",
       "      <td>...</td>\n",
       "    </tr>\n",
       "    <tr>\n",
       "      <th>181527</th>\n",
       "      <td>A30A09D6-6527-4BE3-B2EC-B795F94A70DD</td>\n",
       "      <td>2020-07-02</td>\n",
       "      <td>63.859521</td>\n",
       "      <td>30161559.0</td>\n",
       "      <td>30.0</td>\n",
       "      <td>0.0</td>\n",
       "      <td>3.0</td>\n",
       "      <td>10.0</td>\n",
       "      <td>5.85</td>\n",
       "      <td>1525.0</td>\n",
       "      <td>Null</td>\n",
       "      <td>640665</td>\n",
       "      <td>2020-08-01</td>\n",
       "      <td>457.0</td>\n",
       "      <td>5.85</td>\n",
       "    </tr>\n",
       "    <tr>\n",
       "      <th>181529</th>\n",
       "      <td>BD9B7299-6FD2-4A9F-B336-5F677794A03F</td>\n",
       "      <td>2020-07-02</td>\n",
       "      <td>56.028562</td>\n",
       "      <td>30161559.0</td>\n",
       "      <td>30.0</td>\n",
       "      <td>0.0</td>\n",
       "      <td>3.0</td>\n",
       "      <td>10.0</td>\n",
       "      <td>7.85</td>\n",
       "      <td>1500.0</td>\n",
       "      <td>Null</td>\n",
       "      <td>640665</td>\n",
       "      <td>2020-08-01</td>\n",
       "      <td>458.0</td>\n",
       "      <td>7.85</td>\n",
       "    </tr>\n",
       "    <tr>\n",
       "      <th>181531</th>\n",
       "      <td>BF93A919-5970-428F-9467-7A2D0573C5C6</td>\n",
       "      <td>2020-07-02</td>\n",
       "      <td>206.224110</td>\n",
       "      <td>30161559.0</td>\n",
       "      <td>30.0</td>\n",
       "      <td>0.0</td>\n",
       "      <td>3.0</td>\n",
       "      <td>10.0</td>\n",
       "      <td>3.85</td>\n",
       "      <td>1830.0</td>\n",
       "      <td>Null</td>\n",
       "      <td>640665</td>\n",
       "      <td>2020-08-01</td>\n",
       "      <td>460.0</td>\n",
       "      <td>3.85</td>\n",
       "    </tr>\n",
       "    <tr>\n",
       "      <th>181533</th>\n",
       "      <td>FA54AED7-360E-4DED-96AA-F69D127267B8</td>\n",
       "      <td>2020-07-02</td>\n",
       "      <td>102.993849</td>\n",
       "      <td>30198408.0</td>\n",
       "      <td>25.0</td>\n",
       "      <td>0.0</td>\n",
       "      <td>3.0</td>\n",
       "      <td>10.0</td>\n",
       "      <td>1.40</td>\n",
       "      <td>1150.0</td>\n",
       "      <td>Null</td>\n",
       "      <td>1668701718</td>\n",
       "      <td>2020-07-01</td>\n",
       "      <td>725.0</td>\n",
       "      <td>1.40</td>\n",
       "    </tr>\n",
       "    <tr>\n",
       "      <th>181535</th>\n",
       "      <td>2D65F26A-E56A-4FF4-B586-6E361980EE0A</td>\n",
       "      <td>2020-07-02</td>\n",
       "      <td>106.072262</td>\n",
       "      <td>30198408.0</td>\n",
       "      <td>25.0</td>\n",
       "      <td>0.0</td>\n",
       "      <td>3.0</td>\n",
       "      <td>10.0</td>\n",
       "      <td>1.40</td>\n",
       "      <td>1146.0</td>\n",
       "      <td>Null</td>\n",
       "      <td>1668701718</td>\n",
       "      <td>2020-07-01</td>\n",
       "      <td>727.0</td>\n",
       "      <td>1.40</td>\n",
       "    </tr>\n",
       "  </tbody>\n",
       "</table>\n",
       "<p>34431 rows × 15 columns</p>\n",
       "</div>"
      ],
      "text/plain": [
       "                                          id   item_date  quantity tons  \\\n",
       "171     C0BF3187-C4B3-4C63-ABDB-FCB0642A69C0  2021-04-01       8.718789   \n",
       "174     66D8E20C-AF4A-47D7-8FDD-51DEA6EA1F05  2021-04-01      39.553513   \n",
       "175     4532B5EF-0446-4880-BC8E-242E89AB8DD6  2021-04-01      11.454558   \n",
       "176     EE0BA8DE-38E9-4101-ADF9-B7B5B19A3525  2021-04-01      37.655526   \n",
       "179     1CDD04C3-6310-431F-B10A-F1C6B4F529DD  2021-04-01      10.291602   \n",
       "...                                      ...         ...            ...   \n",
       "181527  A30A09D6-6527-4BE3-B2EC-B795F94A70DD  2020-07-02      63.859521   \n",
       "181529  BD9B7299-6FD2-4A9F-B336-5F677794A03F  2020-07-02      56.028562   \n",
       "181531  BF93A919-5970-428F-9467-7A2D0573C5C6  2020-07-02     206.224110   \n",
       "181533  FA54AED7-360E-4DED-96AA-F69D127267B8  2020-07-02     102.993849   \n",
       "181535  2D65F26A-E56A-4FF4-B586-6E361980EE0A  2020-07-02     106.072262   \n",
       "\n",
       "          customer  country  status  item type  application  thickness  \\\n",
       "171     30223403.0     78.0     0.0        5.0         10.0       1.00   \n",
       "174     30165992.0     77.0     0.0        3.0         10.0       1.00   \n",
       "175     30223403.0     78.0     0.0        5.0         10.0       4.00   \n",
       "176     30165992.0     77.0     0.0        3.0         10.0       0.80   \n",
       "179     30223403.0     78.0     0.0        5.0         10.0       0.80   \n",
       "...            ...      ...     ...        ...          ...        ...   \n",
       "181527  30161559.0     30.0     0.0        3.0         10.0       5.85   \n",
       "181529  30161559.0     30.0     0.0        3.0         10.0       7.85   \n",
       "181531  30161559.0     30.0     0.0        3.0         10.0       3.85   \n",
       "181533  30198408.0     25.0     0.0        3.0         10.0       1.40   \n",
       "181535  30198408.0     25.0     0.0        3.0         10.0       1.40   \n",
       "\n",
       "         width material_ref  product_ref delivery date  selling_price  \\\n",
       "171     1500.0         Null   1668701718    2021-07-01         1253.0   \n",
       "174     1500.0   FZPA004640    164141591    2021-08-01         1225.0   \n",
       "175     1500.0         Null   1668701718    2021-07-01         1186.0   \n",
       "176     1250.0   FZPA004640    164141591    2021-08-01         1249.0   \n",
       "179     1500.0         Null   1668701718    2021-07-01         1284.0   \n",
       "...        ...          ...          ...           ...            ...   \n",
       "181527  1525.0         Null       640665    2020-08-01          457.0   \n",
       "181529  1500.0         Null       640665    2020-08-01          458.0   \n",
       "181531  1830.0         Null       640665    2020-08-01          460.0   \n",
       "181533  1150.0         Null   1668701718    2020-07-01          725.0   \n",
       "181535  1146.0         Null   1668701718    2020-07-01          727.0   \n",
       "\n",
       "        thichness  \n",
       "171          1.00  \n",
       "174          1.00  \n",
       "175          4.00  \n",
       "176          0.80  \n",
       "179          0.80  \n",
       "...           ...  \n",
       "181527       5.85  \n",
       "181529       7.85  \n",
       "181531       3.85  \n",
       "181533       1.40  \n",
       "181535       1.40  \n",
       "\n",
       "[34431 rows x 15 columns]"
      ]
     },
     "execution_count": 105,
     "metadata": {},
     "output_type": "execute_result"
    }
   ],
   "source": [
    "lost_rows = cdf[cdf['status'] == 0]\n",
    "lost_rows"
   ]
  },
  {
   "cell_type": "code",
   "execution_count": 106,
   "id": "6efc4e56",
   "metadata": {},
   "outputs": [
    {
     "data": {
      "text/plain": [
       "6986"
      ]
     },
     "execution_count": 106,
     "metadata": {},
     "output_type": "execute_result"
    }
   ],
   "source": [
    "(y_test==0).sum()"
   ]
  },
  {
   "cell_type": "code",
   "execution_count": 107,
   "id": "8e65c949",
   "metadata": {},
   "outputs": [
    {
     "data": {
      "text/plain": [
       "92903"
      ]
     },
     "execution_count": 107,
     "metadata": {},
     "output_type": "execute_result"
    }
   ],
   "source": [
    "(y_resampled==0).sum()"
   ]
  },
  {
   "cell_type": "code",
   "execution_count": 108,
   "id": "c5623316",
   "metadata": {},
   "outputs": [
    {
     "data": {
      "text/plain": [
       "92903"
      ]
     },
     "execution_count": 108,
     "metadata": {},
     "output_type": "execute_result"
    }
   ],
   "source": [
    "(y_resampled==1).sum()"
   ]
  },
  {
   "cell_type": "code",
   "execution_count": 109,
   "id": "f54cfb63",
   "metadata": {},
   "outputs": [
    {
     "data": {
      "text/plain": [
       "(120348,)"
      ]
     },
     "execution_count": 109,
     "metadata": {},
     "output_type": "execute_result"
    }
   ],
   "source": [
    "y_train.shape"
   ]
  },
  {
   "cell_type": "code",
   "execution_count": 110,
   "id": "3a8cc0be",
   "metadata": {},
   "outputs": [
    {
     "data": {
      "text/plain": [
       "1953"
      ]
     },
     "execution_count": 110,
     "metadata": {},
     "output_type": "execute_result"
    }
   ],
   "source": [
    "((rf_pred==y_test)==False).sum()"
   ]
  },
  {
   "cell_type": "code",
   "execution_count": null,
   "id": "a09555bc",
   "metadata": {},
   "outputs": [],
   "source": []
  }
 ],
 "metadata": {
  "kernelspec": {
   "display_name": "Python 3 (ipykernel)",
   "language": "python",
   "name": "python3"
  },
  "language_info": {
   "codemirror_mode": {
    "name": "ipython",
    "version": 3
   },
   "file_extension": ".py",
   "mimetype": "text/x-python",
   "name": "python",
   "nbconvert_exporter": "python",
   "pygments_lexer": "ipython3",
   "version": "3.10.9"
  }
 },
 "nbformat": 4,
 "nbformat_minor": 5
}
